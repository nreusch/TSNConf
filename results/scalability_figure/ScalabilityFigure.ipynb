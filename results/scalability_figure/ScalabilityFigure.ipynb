{
 "cells": [
  {
   "cell_type": "code",
   "execution_count": 133,
   "id": "federal-documentary",
   "metadata": {},
   "outputs": [],
   "source": [
    "import pandas as pd\n",
    "import matplotlib.pyplot as plt\n",
    "\n"
   ]
  },
  {
   "cell_type": "code",
   "execution_count": 134,
   "id": "everyday-devon",
   "metadata": {},
   "outputs": [],
   "source": [
    "import numpy as np\n",
    "def ms_to_s(lst):\n",
    "    m = np.mean(lst)\n",
    "    return m/1000"
   ]
  },
  {
   "cell_type": "code",
   "execution_count": 159,
   "id": "grave-identification",
   "metadata": {},
   "outputs": [
    {
     "data": {
      "text/html": [
       "<div>\n",
       "<style scoped>\n",
       "    .dataframe tbody tr th:only-of-type {\n",
       "        vertical-align: middle;\n",
       "    }\n",
       "\n",
       "    .dataframe tbody tr th {\n",
       "        vertical-align: top;\n",
       "    }\n",
       "\n",
       "    .dataframe thead th {\n",
       "        text-align: right;\n",
       "    }\n",
       "</style>\n",
       "<table border=\"1\" class=\"dataframe\">\n",
       "  <thead>\n",
       "    <tr style=\"text-align: right;\">\n",
       "      <th></th>\n",
       "      <th>Optimization Time (ms)</th>\n",
       "      <th># Switches</th>\n",
       "    </tr>\n",
       "    <tr>\n",
       "      <th>Testcase</th>\n",
       "      <th></th>\n",
       "      <th></th>\n",
       "    </tr>\n",
       "  </thead>\n",
       "  <tbody>\n",
       "    <tr>\n",
       "      <th>topo_size0</th>\n",
       "      <td>0.9590</td>\n",
       "      <td>6</td>\n",
       "    </tr>\n",
       "    <tr>\n",
       "      <th>topo_size1</th>\n",
       "      <td>1.0322</td>\n",
       "      <td>8</td>\n",
       "    </tr>\n",
       "    <tr>\n",
       "      <th>topo_size2</th>\n",
       "      <td>1.2000</td>\n",
       "      <td>10</td>\n",
       "    </tr>\n",
       "    <tr>\n",
       "      <th>topo_size3</th>\n",
       "      <td>2.2312</td>\n",
       "      <td>12</td>\n",
       "    </tr>\n",
       "    <tr>\n",
       "      <th>topo_size4</th>\n",
       "      <td>6.9592</td>\n",
       "      <td>14</td>\n",
       "    </tr>\n",
       "    <tr>\n",
       "      <th>topo_size5</th>\n",
       "      <td>6.6828</td>\n",
       "      <td>16</td>\n",
       "    </tr>\n",
       "    <tr>\n",
       "      <th>topo_size6</th>\n",
       "      <td>6.9962</td>\n",
       "      <td>18</td>\n",
       "    </tr>\n",
       "    <tr>\n",
       "      <th>topo_size7</th>\n",
       "      <td>15.0378</td>\n",
       "      <td>20</td>\n",
       "    </tr>\n",
       "    <tr>\n",
       "      <th>topo_size8</th>\n",
       "      <td>17.9466</td>\n",
       "      <td>22</td>\n",
       "    </tr>\n",
       "    <tr>\n",
       "      <th>topo_size9</th>\n",
       "      <td>38.3376</td>\n",
       "      <td>24</td>\n",
       "    </tr>\n",
       "  </tbody>\n",
       "</table>\n",
       "</div>"
      ],
      "text/plain": [
       "            Optimization Time (ms)  # Switches\n",
       "Testcase                                      \n",
       "topo_size0                  0.9590           6\n",
       "topo_size1                  1.0322           8\n",
       "topo_size2                  1.2000          10\n",
       "topo_size3                  2.2312          12\n",
       "topo_size4                  6.9592          14\n",
       "topo_size5                  6.6828          16\n",
       "topo_size6                  6.9962          18\n",
       "topo_size7                 15.0378          20\n",
       "topo_size8                 17.9466          22\n",
       "topo_size9                 38.3376          24"
      ]
     },
     "execution_count": 159,
     "metadata": {},
     "output_type": "execute_result"
    }
   ],
   "source": [
    "df = pd.read_csv('topo_size_cp.csv')\n",
    "df = df.sort_values(by=['Testcase'])\n",
    "df = df[[\"Testcase\",\"# Switches\", \"Optimization Time (ms)\"]]\n",
    "df = df.groupby(\"Testcase\").agg({\"Optimization Time (ms)\": ms_to_s, \"# Switches\": np.mean})\n",
    "df"
   ]
  },
  {
   "cell_type": "code",
   "execution_count": 161,
   "id": "cultural-maryland",
   "metadata": {},
   "outputs": [
    {
     "data": {
      "image/png": "[encoded data removed]",
      "text/plain": [
       "<Figure size 432x288 with 1 Axes>"
      ]
     },
     "metadata": {
      "needs_background": "light"
     },
     "output_type": "display_data"
    }
   ],
   "source": [
    "x_toposize = df[\"# Switches\"]\n",
    "y_toposize = df[\"Optimization Time (ms)\"]\n",
    "df.to_csv(\"topo_size.csv\")\n",
    "plt.plot(x_toposize,y_toposize)\n",
    "plt.xticks([x_toposize[0], x_toposize[-1]])\n",
    "plt.xlabel(\"Switches\")\n",
    "plt.ylabel(\"Optimization time (s)\")\n",
    "#plt.savefig('topo_size.pdf',bbox_inches='tight') \n",
    "plt.show()\n"
   ]
  },
  {
   "cell_type": "code",
   "execution_count": 162,
   "id": "clinical-emerald",
   "metadata": {},
   "outputs": [
    {
     "data": {
      "text/html": [
       "<div>\n",
       "<style scoped>\n",
       "    .dataframe tbody tr th:only-of-type {\n",
       "        vertical-align: middle;\n",
       "    }\n",
       "\n",
       "    .dataframe tbody tr th {\n",
       "        vertical-align: top;\n",
       "    }\n",
       "\n",
       "    .dataframe thead th {\n",
       "        text-align: right;\n",
       "    }\n",
       "</style>\n",
       "<table border=\"1\" class=\"dataframe\">\n",
       "  <thead>\n",
       "    <tr style=\"text-align: right;\">\n",
       "      <th></th>\n",
       "      <th>Optimization Time (ms)</th>\n",
       "      <th># Tasks</th>\n",
       "      <th># Streams</th>\n",
       "      <th>Sum</th>\n",
       "    </tr>\n",
       "    <tr>\n",
       "      <th>Testcase</th>\n",
       "      <th></th>\n",
       "      <th></th>\n",
       "      <th></th>\n",
       "      <th></th>\n",
       "    </tr>\n",
       "  </thead>\n",
       "  <tbody>\n",
       "    <tr>\n",
       "      <th>apps0</th>\n",
       "      <td>1.2056</td>\n",
       "      <td>8</td>\n",
       "      <td>2</td>\n",
       "      <td>10.0</td>\n",
       "    </tr>\n",
       "    <tr>\n",
       "      <th>apps1</th>\n",
       "      <td>2.1638</td>\n",
       "      <td>16</td>\n",
       "      <td>4</td>\n",
       "      <td>20.0</td>\n",
       "    </tr>\n",
       "    <tr>\n",
       "      <th>apps2</th>\n",
       "      <td>4.0816</td>\n",
       "      <td>24</td>\n",
       "      <td>6</td>\n",
       "      <td>30.0</td>\n",
       "    </tr>\n",
       "    <tr>\n",
       "      <th>apps3</th>\n",
       "      <td>14.0774</td>\n",
       "      <td>32</td>\n",
       "      <td>8</td>\n",
       "      <td>40.0</td>\n",
       "    </tr>\n",
       "    <tr>\n",
       "      <th>apps4</th>\n",
       "      <td>28.4730</td>\n",
       "      <td>40</td>\n",
       "      <td>10</td>\n",
       "      <td>50.0</td>\n",
       "    </tr>\n",
       "    <tr>\n",
       "      <th>apps6</th>\n",
       "      <td>130.5210</td>\n",
       "      <td>56</td>\n",
       "      <td>13</td>\n",
       "      <td>70.0</td>\n",
       "    </tr>\n",
       "    <tr>\n",
       "      <th>apps7</th>\n",
       "      <td>554.7962</td>\n",
       "      <td>64</td>\n",
       "      <td>15</td>\n",
       "      <td>80.0</td>\n",
       "    </tr>\n",
       "    <tr>\n",
       "      <th>apps8</th>\n",
       "      <td>593.0085</td>\n",
       "      <td>72</td>\n",
       "      <td>18</td>\n",
       "      <td>90.0</td>\n",
       "    </tr>\n",
       "    <tr>\n",
       "      <th>apps9</th>\n",
       "      <td>844.8555</td>\n",
       "      <td>80</td>\n",
       "      <td>19</td>\n",
       "      <td>100.0</td>\n",
       "    </tr>\n",
       "  </tbody>\n",
       "</table>\n",
       "</div>"
      ],
      "text/plain": [
       "          Optimization Time (ms)  # Tasks  # Streams    Sum\n",
       "Testcase                                                   \n",
       "apps0                     1.2056        8          2   10.0\n",
       "apps1                     2.1638       16          4   20.0\n",
       "apps2                     4.0816       24          6   30.0\n",
       "apps3                    14.0774       32          8   40.0\n",
       "apps4                    28.4730       40         10   50.0\n",
       "apps6                   130.5210       56         13   70.0\n",
       "apps7                   554.7962       64         15   80.0\n",
       "apps8                   593.0085       72         18   90.0\n",
       "apps9                   844.8555       80         19  100.0"
      ]
     },
     "execution_count": 162,
     "metadata": {},
     "output_type": "execute_result"
    }
   ],
   "source": [
    "df = pd.read_csv('apps_cp.csv')\n",
    "df = df.sort_values(by=['Testcase'])\n",
    "df[\"Sum\"] = [t+(t/4) for t in df[\"# Tasks\"]]\n",
    "# drop testcase 5 because it has unusually high stream overlap\n",
    "df = df[df[\"Testcase\"]!=\"apps5\"]\n",
    "df = df[[\"Testcase\",\"# Tasks\", \"# Streams\", \"Optimization Time (ms)\", \"Sum\"]]\n",
    "df = df.groupby(\"Testcase\").agg({\"Optimization Time (ms)\": ms_to_s, \"# Tasks\": np.mean, \"# Streams\": np.mean, \"Sum\": np.mean})\n",
    "df"
   ]
  },
  {
   "cell_type": "code",
   "execution_count": 163,
   "id": "bottom-combination",
   "metadata": {},
   "outputs": [
    {
     "data": {
      "image/png": "[encoded data removed]",
      "text/plain": [
       "<Figure size 432x288 with 1 Axes>"
      ]
     },
     "metadata": {
      "needs_background": "light"
     },
     "output_type": "display_data"
    }
   ],
   "source": [
    "x_apps = df[\"Sum\"]\n",
    "y_apps = df[\"Optimization Time (ms)\"]\n",
    "df.to_csv(\"task_streams.csv\")\n",
    "plt.plot(x_apps,y_apps)\n",
    "plt.xticks([10,100])\n",
    "plt.xlabel(\"Tasks + Streams\")\n",
    "plt.ylabel(\"Optimization time (s)\")\n",
    "#plt.savefig('apps.pdf',bbox_inches='tight') \n",
    "plt.show()\n"
   ]
  },
  {
   "cell_type": "code",
   "execution_count": 164,
   "id": "frank-microphone",
   "metadata": {},
   "outputs": [
    {
     "data": {
      "text/html": [
       "<div>\n",
       "<style scoped>\n",
       "    .dataframe tbody tr th:only-of-type {\n",
       "        vertical-align: middle;\n",
       "    }\n",
       "\n",
       "    .dataframe tbody tr th {\n",
       "        vertical-align: top;\n",
       "    }\n",
       "\n",
       "    .dataframe thead th {\n",
       "        text-align: right;\n",
       "    }\n",
       "</style>\n",
       "<table border=\"1\" class=\"dataframe\">\n",
       "  <thead>\n",
       "    <tr style=\"text-align: right;\">\n",
       "      <th></th>\n",
       "      <th>Optimization Time (ms)</th>\n",
       "      <th># Tasks</th>\n",
       "      <th># Switches</th>\n",
       "    </tr>\n",
       "    <tr>\n",
       "      <th>Testcase</th>\n",
       "      <th></th>\n",
       "      <th></th>\n",
       "      <th></th>\n",
       "    </tr>\n",
       "  </thead>\n",
       "  <tbody>\n",
       "    <tr>\n",
       "      <th>topo_size_plus_apps0</th>\n",
       "      <td>0.457556</td>\n",
       "      <td>8</td>\n",
       "      <td>6</td>\n",
       "    </tr>\n",
       "    <tr>\n",
       "      <th>topo_size_plus_apps1</th>\n",
       "      <td>1.182333</td>\n",
       "      <td>16</td>\n",
       "      <td>8</td>\n",
       "    </tr>\n",
       "    <tr>\n",
       "      <th>topo_size_plus_apps2</th>\n",
       "      <td>12.455889</td>\n",
       "      <td>24</td>\n",
       "      <td>10</td>\n",
       "    </tr>\n",
       "    <tr>\n",
       "      <th>topo_size_plus_apps3</th>\n",
       "      <td>3548.663000</td>\n",
       "      <td>32</td>\n",
       "      <td>12</td>\n",
       "    </tr>\n",
       "    <tr>\n",
       "      <th>topo_size_plus_apps4</th>\n",
       "      <td>2195.501500</td>\n",
       "      <td>40</td>\n",
       "      <td>14</td>\n",
       "    </tr>\n",
       "    <tr>\n",
       "      <th>topo_size_plus_apps5</th>\n",
       "      <td>6260.073286</td>\n",
       "      <td>48</td>\n",
       "      <td>16</td>\n",
       "    </tr>\n",
       "    <tr>\n",
       "      <th>topo_size_plus_apps6</th>\n",
       "      <td>9594.263250</td>\n",
       "      <td>56</td>\n",
       "      <td>18</td>\n",
       "    </tr>\n",
       "    <tr>\n",
       "      <th>topo_size_plus_apps7</th>\n",
       "      <td>9941.162200</td>\n",
       "      <td>64</td>\n",
       "      <td>20</td>\n",
       "    </tr>\n",
       "    <tr>\n",
       "      <th>topo_size_plus_apps9</th>\n",
       "      <td>11208.505000</td>\n",
       "      <td>80</td>\n",
       "      <td>24</td>\n",
       "    </tr>\n",
       "  </tbody>\n",
       "</table>\n",
       "</div>"
      ],
      "text/plain": [
       "                      Optimization Time (ms)  # Tasks  # Switches\n",
       "Testcase                                                         \n",
       "topo_size_plus_apps0                0.457556        8           6\n",
       "topo_size_plus_apps1                1.182333       16           8\n",
       "topo_size_plus_apps2               12.455889       24          10\n",
       "topo_size_plus_apps3             3548.663000       32          12\n",
       "topo_size_plus_apps4             2195.501500       40          14\n",
       "topo_size_plus_apps5             6260.073286       48          16\n",
       "topo_size_plus_apps6             9594.263250       56          18\n",
       "topo_size_plus_apps7             9941.162200       64          20\n",
       "topo_size_plus_apps9            11208.505000       80          24"
      ]
     },
     "execution_count": 164,
     "metadata": {},
     "output_type": "execute_result"
    }
   ],
   "source": [
    "df = pd.read_csv('topo_size_plus_apps_cp.csv')\n",
    "df = df.sort_values(by=['Testcase'])\n",
    "df = df[[\"Testcase\",\"# Tasks\", \"# Switches\", \"Optimization Time (ms)\"]]\n",
    "df = df.groupby(\"Testcase\").agg({\"Optimization Time (ms)\": ms_to_s, \"# Tasks\": np.mean, \"# Switches\": np.mean})\n",
    "df"
   ]
  },
  {
   "cell_type": "code",
   "execution_count": 165,
   "id": "subsequent-italy",
   "metadata": {},
   "outputs": [
    {
     "data": {
      "image/png": "[encoded data removed]",
      "text/plain": [
       "<Figure size 432x288 with 2 Axes>"
      ]
     },
     "metadata": {
      "needs_background": "light"
     },
     "output_type": "display_data"
    }
   ],
   "source": [
    "x_both_tasks = df[\"# Tasks\"][:7]\n",
    "x_both_switches = df[\"# Switches\"][:7]\n",
    "y_both = df[\"Optimization Time (ms)\"][:7]\n",
    "\n",
    "df.to_csv(\"both.csv\")\n",
    "\n",
    "fig, ax1 = plt.subplots()\n",
    "ax1.set_ylabel(\"Optimization Time (s)\")\n",
    "ax1.set_xlabel(\"Tasks\")\n",
    "ax1.set_xticks(x_both_tasks)\n",
    "ax1.plot(x_both_tasks, y_both)\n",
    "ax2 = ax1.twiny()\n",
    "ax2.set_xlabel(\"Switches\")\n",
    "ax2.set_xticks(x_both_switches)\n",
    "ax2.plot(x_both_switches, y_both, visible=False)\n",
    "fig.tight_layout()\n",
    "#plt.savefig('topo_plus_apps.pdf',bbox_inches='tight') \n",
    "plt.show()\n"
   ]
  },
  {
   "cell_type": "code",
   "execution_count": 147,
   "id": "closed-surgery",
   "metadata": {},
   "outputs": [
    {
     "data": {
      "text/plain": [
       "[<matplotlib.lines.Line2D at 0x289c2d3eeb0>]"
      ]
     },
     "execution_count": 147,
     "metadata": {},
     "output_type": "execute_result"
    },
    {
     "data": {
      "image/png": "[encoded data removed]",
      "text/plain": [
       "<Figure size 432x288 with 2 Axes>"
      ]
     },
     "metadata": {
      "needs_background": "light"
     },
     "output_type": "display_data"
    }
   ],
   "source": [
    "fig=plt.figure()\n",
    "ax=fig.add_subplot(111, label=\"1\")\n",
    "ax2=fig.add_subplot(111, label=\"2\", frame_on=False)\n",
    "\n",
    "ax.set_xlabel(\"Switches\")\n",
    "ax.plot(x_toposize,y_toposize)\n",
    "\n",
    "\n",
    "ax2.xaxis.tick_top()\n",
    "ax2.set_xlabel(\"Tasks\")\n",
    "ax2.xaxis.set_label_position('top')\n",
    "ax2.set_yticks([])\n",
    "ax2.plot(x_apps,y_apps)\n",
    "\n",
    "#plt.plot(x_both,y_both)"
   ]
  },
  {
   "cell_type": "code",
   "execution_count": null,
   "id": "pacific-enforcement",
   "metadata": {},
   "outputs": [],
   "source": []
  },
  {
   "cell_type": "code",
   "execution_count": null,
   "id": "deadly-relay",
   "metadata": {},
   "outputs": [],
   "source": []
  }
 ],
 "metadata": {
  "kernelspec": {
   "display_name": "Python 3",
   "language": "python",
   "name": "python3"
  },
  "language_info": {
   "codemirror_mode": {
    "name": "ipython",
    "version": 3
   },
   "file_extension": ".py",
   "mimetype": "text/x-python",
   "name": "python",
   "nbconvert_exporter": "python",
   "pygments_lexer": "ipython3",
   "version": "3.9.1"
  }
 },
 "nbformat": 4,
 "nbformat_minor": 5
}
