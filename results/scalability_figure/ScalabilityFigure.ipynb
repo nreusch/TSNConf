{
 "cells": [
  {
   "cell_type": "code",
   "execution_count": 17,
   "id": "federal-documentary",
   "metadata": {},
   "outputs": [],
   "source": [
    "import pandas as pd\n",
    "import matplotlib.pyplot as plt\n",
    "\n"
   ]
  },
  {
   "cell_type": "code",
   "execution_count": 18,
   "id": "everyday-devon",
   "metadata": {},
   "outputs": [],
   "source": [
    "import numpy as np\n"
   ]
  },
  {
   "cell_type": "code",
   "execution_count": 24,
   "id": "grave-identification",
   "metadata": {},
   "outputs": [
    {
     "data": {
      "text/html": [
       "<div>\n",
       "<style scoped>\n",
       "    .dataframe tbody tr th:only-of-type {\n",
       "        vertical-align: middle;\n",
       "    }\n",
       "\n",
       "    .dataframe tbody tr th {\n",
       "        vertical-align: top;\n",
       "    }\n",
       "\n",
       "    .dataframe thead th {\n",
       "        text-align: right;\n",
       "    }\n",
       "</style>\n",
       "<table border=\"1\" class=\"dataframe\">\n",
       "  <thead>\n",
       "    <tr style=\"text-align: right;\">\n",
       "      <th></th>\n",
       "      <th>Optimization Time (ms)</th>\n",
       "      <th># Switches</th>\n",
       "    </tr>\n",
       "    <tr>\n",
       "      <th>Testcase</th>\n",
       "      <th></th>\n",
       "      <th></th>\n",
       "    </tr>\n",
       "  </thead>\n",
       "  <tbody>\n",
       "    <tr>\n",
       "      <th>topo_size0</th>\n",
       "      <td>959.0</td>\n",
       "      <td>6</td>\n",
       "    </tr>\n",
       "    <tr>\n",
       "      <th>topo_size1</th>\n",
       "      <td>1032.2</td>\n",
       "      <td>8</td>\n",
       "    </tr>\n",
       "    <tr>\n",
       "      <th>topo_size2</th>\n",
       "      <td>1200.0</td>\n",
       "      <td>10</td>\n",
       "    </tr>\n",
       "    <tr>\n",
       "      <th>topo_size3</th>\n",
       "      <td>2231.2</td>\n",
       "      <td>12</td>\n",
       "    </tr>\n",
       "    <tr>\n",
       "      <th>topo_size4</th>\n",
       "      <td>6959.2</td>\n",
       "      <td>14</td>\n",
       "    </tr>\n",
       "    <tr>\n",
       "      <th>topo_size5</th>\n",
       "      <td>6682.8</td>\n",
       "      <td>16</td>\n",
       "    </tr>\n",
       "    <tr>\n",
       "      <th>topo_size6</th>\n",
       "      <td>6996.2</td>\n",
       "      <td>18</td>\n",
       "    </tr>\n",
       "    <tr>\n",
       "      <th>topo_size7</th>\n",
       "      <td>15037.8</td>\n",
       "      <td>20</td>\n",
       "    </tr>\n",
       "    <tr>\n",
       "      <th>topo_size8</th>\n",
       "      <td>17946.6</td>\n",
       "      <td>22</td>\n",
       "    </tr>\n",
       "    <tr>\n",
       "      <th>topo_size9</th>\n",
       "      <td>38337.6</td>\n",
       "      <td>24</td>\n",
       "    </tr>\n",
       "  </tbody>\n",
       "</table>\n",
       "</div>"
      ],
      "text/plain": [
       "            Optimization Time (ms)  # Switches\n",
       "Testcase                                      \n",
       "topo_size0                   959.0           6\n",
       "topo_size1                  1032.2           8\n",
       "topo_size2                  1200.0          10\n",
       "topo_size3                  2231.2          12\n",
       "topo_size4                  6959.2          14\n",
       "topo_size5                  6682.8          16\n",
       "topo_size6                  6996.2          18\n",
       "topo_size7                 15037.8          20\n",
       "topo_size8                 17946.6          22\n",
       "topo_size9                 38337.6          24"
      ]
     },
     "execution_count": 24,
     "metadata": {},
     "output_type": "execute_result"
    }
   ],
   "source": [
    "df = pd.read_csv('topo_size_cp.csv')\n",
    "df = df.sort_values(by=['Testcase'])\n",
    "df = df[[\"Testcase\",\"# Switches\", \"Optimization Time (ms)\"]]\n",
    "df = df.groupby(\"Testcase\").agg({\"Optimization Time (ms)\": np.mean, \"# Switches\": np.mean})\n",
    "df"
   ]
  },
  {
   "cell_type": "code",
   "execution_count": 27,
   "id": "cultural-maryland",
   "metadata": {},
   "outputs": [
    {
     "data": {
      "image/png": "[encoded data removed]",
      "text/plain": [
       "<Figure size 432x288 with 1 Axes>"
      ]
     },
     "metadata": {
      "needs_background": "light"
     },
     "output_type": "display_data"
    }
   ],
   "source": [
    "x = df[\"# Switches\"]\n",
    "y = df[\"Optimization Time (ms)\"]\n",
    "plt.plot(x,y)\n",
    "plt.xticks(x)\n",
    "plt.xlabel(\"Switches\")\n",
    "plt.ylabel(\"Optimization time (ms)\")\n",
    "plt.show()"
   ]
  },
  {
   "cell_type": "code",
   "execution_count": null,
   "id": "clinical-emerald",
   "metadata": {},
   "outputs": [],
   "source": []
  }
 ],
 "metadata": {
  "kernelspec": {
   "display_name": "Python 3",
   "language": "python",
   "name": "python3"
  },
  "language_info": {
   "codemirror_mode": {
    "name": "ipython",
    "version": 3
   },
   "file_extension": ".py",
   "mimetype": "text/x-python",
   "name": "python",
   "nbconvert_exporter": "python",
   "pygments_lexer": "ipython3",
   "version": "3.9.1"
  }
 },
 "nbformat": 4,
 "nbformat_minor": 5
}
