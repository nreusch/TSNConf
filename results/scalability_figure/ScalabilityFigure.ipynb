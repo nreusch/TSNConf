{
 "cells": [
  {
   "cell_type": "code",
   "execution_count": 2,
   "id": "federal-documentary",
   "metadata": {},
   "outputs": [],
   "source": [
    "import pandas as pd\n",
    "import matplotlib.pyplot as plt\n",
    "\n"
   ]
  },
  {
   "cell_type": "code",
   "execution_count": 3,
   "id": "everyday-devon",
   "metadata": {},
   "outputs": [],
   "source": [
    "import numpy as np\n"
   ]
  },
  {
   "cell_type": "code",
   "execution_count": 4,
   "id": "grave-identification",
   "metadata": {},
   "outputs": [
    {
     "data": {
      "text/html": [
       "<div>\n",
       "<style scoped>\n",
       "    .dataframe tbody tr th:only-of-type {\n",
       "        vertical-align: middle;\n",
       "    }\n",
       "\n",
       "    .dataframe tbody tr th {\n",
       "        vertical-align: top;\n",
       "    }\n",
       "\n",
       "    .dataframe thead th {\n",
       "        text-align: right;\n",
       "    }\n",
       "</style>\n",
       "<table border=\"1\" class=\"dataframe\">\n",
       "  <thead>\n",
       "    <tr style=\"text-align: right;\">\n",
       "      <th></th>\n",
       "      <th>Optimization Time (ms)</th>\n",
       "      <th># Switches</th>\n",
       "    </tr>\n",
       "    <tr>\n",
       "      <th>Testcase</th>\n",
       "      <th></th>\n",
       "      <th></th>\n",
       "    </tr>\n",
       "  </thead>\n",
       "  <tbody>\n",
       "    <tr>\n",
       "      <th>topo_size0</th>\n",
       "      <td>959.0</td>\n",
       "      <td>6</td>\n",
       "    </tr>\n",
       "    <tr>\n",
       "      <th>topo_size1</th>\n",
       "      <td>1032.2</td>\n",
       "      <td>8</td>\n",
       "    </tr>\n",
       "    <tr>\n",
       "      <th>topo_size2</th>\n",
       "      <td>1200.0</td>\n",
       "      <td>10</td>\n",
       "    </tr>\n",
       "    <tr>\n",
       "      <th>topo_size3</th>\n",
       "      <td>2231.2</td>\n",
       "      <td>12</td>\n",
       "    </tr>\n",
       "    <tr>\n",
       "      <th>topo_size4</th>\n",
       "      <td>6959.2</td>\n",
       "      <td>14</td>\n",
       "    </tr>\n",
       "    <tr>\n",
       "      <th>topo_size5</th>\n",
       "      <td>6682.8</td>\n",
       "      <td>16</td>\n",
       "    </tr>\n",
       "    <tr>\n",
       "      <th>topo_size6</th>\n",
       "      <td>6996.2</td>\n",
       "      <td>18</td>\n",
       "    </tr>\n",
       "    <tr>\n",
       "      <th>topo_size7</th>\n",
       "      <td>15037.8</td>\n",
       "      <td>20</td>\n",
       "    </tr>\n",
       "    <tr>\n",
       "      <th>topo_size8</th>\n",
       "      <td>17946.6</td>\n",
       "      <td>22</td>\n",
       "    </tr>\n",
       "    <tr>\n",
       "      <th>topo_size9</th>\n",
       "      <td>38337.6</td>\n",
       "      <td>24</td>\n",
       "    </tr>\n",
       "  </tbody>\n",
       "</table>\n",
       "</div>"
      ],
      "text/plain": [
       "            Optimization Time (ms)  # Switches\n",
       "Testcase                                      \n",
       "topo_size0                   959.0           6\n",
       "topo_size1                  1032.2           8\n",
       "topo_size2                  1200.0          10\n",
       "topo_size3                  2231.2          12\n",
       "topo_size4                  6959.2          14\n",
       "topo_size5                  6682.8          16\n",
       "topo_size6                  6996.2          18\n",
       "topo_size7                 15037.8          20\n",
       "topo_size8                 17946.6          22\n",
       "topo_size9                 38337.6          24"
      ]
     },
     "execution_count": 4,
     "metadata": {},
     "output_type": "execute_result"
    }
   ],
   "source": [
    "df = pd.read_csv('topo_size_cp.csv')\n",
    "df = df.sort_values(by=['Testcase'])\n",
    "df = df[[\"Testcase\",\"# Switches\", \"Optimization Time (ms)\"]]\n",
    "df = df.groupby(\"Testcase\").agg({\"Optimization Time (ms)\": np.mean, \"# Switches\": np.mean})\n",
    "df"
   ]
  },
  {
   "cell_type": "code",
   "execution_count": 5,
   "id": "cultural-maryland",
   "metadata": {},
   "outputs": [
    {
     "data": {
      "image/png": "[encoded data removed]",
      "text/plain": [
       "<Figure size 432x288 with 1 Axes>"
      ]
     },
     "metadata": {
      "needs_background": "light"
     },
     "output_type": "display_data"
    }
   ],
   "source": [
    "x = df[\"# Switches\"]\n",
    "y = df[\"Optimization Time (ms)\"]\n",
    "plt.plot(x,y)\n",
    "plt.xticks(x)\n",
    "plt.xlabel(\"Switches\")\n",
    "plt.ylabel(\"Optimization time (ms)\")\n",
    "plt.show()"
   ]
  },
  {
   "cell_type": "code",
   "execution_count": 7,
   "id": "clinical-emerald",
   "metadata": {},
   "outputs": [
    {
     "data": {
      "text/html": [
       "<div>\n",
       "<style scoped>\n",
       "    .dataframe tbody tr th:only-of-type {\n",
       "        vertical-align: middle;\n",
       "    }\n",
       "\n",
       "    .dataframe tbody tr th {\n",
       "        vertical-align: top;\n",
       "    }\n",
       "\n",
       "    .dataframe thead th {\n",
       "        text-align: right;\n",
       "    }\n",
       "</style>\n",
       "<table border=\"1\" class=\"dataframe\">\n",
       "  <thead>\n",
       "    <tr style=\"text-align: right;\">\n",
       "      <th></th>\n",
       "      <th>Optimization Time (ms)</th>\n",
       "      <th># Tasks</th>\n",
       "    </tr>\n",
       "    <tr>\n",
       "      <th>Testcase</th>\n",
       "      <th></th>\n",
       "      <th></th>\n",
       "    </tr>\n",
       "  </thead>\n",
       "  <tbody>\n",
       "    <tr>\n",
       "      <th>apps0</th>\n",
       "      <td>990.0</td>\n",
       "      <td>8</td>\n",
       "    </tr>\n",
       "    <tr>\n",
       "      <th>apps1</th>\n",
       "      <td>2741.4</td>\n",
       "      <td>16</td>\n",
       "    </tr>\n",
       "    <tr>\n",
       "      <th>apps2</th>\n",
       "      <td>5043.2</td>\n",
       "      <td>24</td>\n",
       "    </tr>\n",
       "    <tr>\n",
       "      <th>apps3</th>\n",
       "      <td>24772.4</td>\n",
       "      <td>32</td>\n",
       "    </tr>\n",
       "    <tr>\n",
       "      <th>apps4</th>\n",
       "      <td>78752.2</td>\n",
       "      <td>40</td>\n",
       "    </tr>\n",
       "    <tr>\n",
       "      <th>apps5</th>\n",
       "      <td>3002467.2</td>\n",
       "      <td>48</td>\n",
       "    </tr>\n",
       "    <tr>\n",
       "      <th>apps6</th>\n",
       "      <td>2918614.0</td>\n",
       "      <td>56</td>\n",
       "    </tr>\n",
       "  </tbody>\n",
       "</table>\n",
       "</div>"
      ],
      "text/plain": [
       "          Optimization Time (ms)  # Tasks\n",
       "Testcase                                 \n",
       "apps0                      990.0        8\n",
       "apps1                     2741.4       16\n",
       "apps2                     5043.2       24\n",
       "apps3                    24772.4       32\n",
       "apps4                    78752.2       40\n",
       "apps5                  3002467.2       48\n",
       "apps6                  2918614.0       56"
      ]
     },
     "execution_count": 7,
     "metadata": {},
     "output_type": "execute_result"
    }
   ],
   "source": [
    "df = pd.read_csv('apps_cp.csv')\n",
    "df = df.sort_values(by=['Testcase'])\n",
    "df = df[[\"Testcase\",\"# Tasks\", \"Optimization Time (ms)\"]]\n",
    "df = df.groupby(\"Testcase\").agg({\"Optimization Time (ms)\": np.mean, \"# Tasks\": np.mean})\n",
    "df"
   ]
  },
  {
   "cell_type": "code",
   "execution_count": 11,
   "id": "fluid-barcelona",
   "metadata": {},
   "outputs": [
    {
     "data": {
      "image/png": "[encoded data removed]",
      "text/plain": [
       "<Figure size 432x288 with 1 Axes>"
      ]
     },
     "metadata": {
      "needs_background": "light"
     },
     "output_type": "display_data"
    }
   ],
   "source": [
    "x = df[\"# Tasks\"][:5]\n",
    "y = df[\"Optimization Time (ms)\"][:5]\n",
    "plt.plot(x,y)\n",
    "plt.xticks(x)\n",
    "plt.xlabel(\"Tasks\")\n",
    "plt.ylabel(\"Optimization time (ms)\")\n",
    "plt.show()"
   ]
  },
  {
   "cell_type": "code",
   "execution_count": null,
   "id": "angry-tractor",
   "metadata": {},
   "outputs": [],
   "source": []
  }
 ],
 "metadata": {
  "kernelspec": {
   "display_name": "Python 3",
   "language": "python",
   "name": "python3"
  },
  "language_info": {
   "codemirror_mode": {
    "name": "ipython",
    "version": 3
   },
   "file_extension": ".py",
   "mimetype": "text/x-python",
   "name": "python",
   "nbconvert_exporter": "python",
   "pygments_lexer": "ipython3",
   "version": "3.9.1"
  }
 },
 "nbformat": 4,
 "nbformat_minor": 5
}
