{
 "cells": [
  {
   "cell_type": "code",
   "execution_count": 12,
   "id": "frequent-mixer",
   "metadata": {},
   "outputs": [
    {
     "name": "stdout",
     "output_type": "stream",
     "text": [
      "The autoreload extension is already loaded. To reload it, use:\n",
      "  %reload_ext autoreload\n"
     ]
    }
   ],
   "source": [
    "%matplotlib inline\n",
    "%load_ext autoreload\n",
    "%autoreload 2\n",
    "from utils.testcase_creator import *\n",
    "import utils.app_creator\n",
    "from optimization.sa.task_graph import PrecedenceGraph\n",
    "import networkx as nx\n",
    "import main\n",
    "from pathlib import Path\n",
    "from input.input_parameters import InputParameters, EMode, Timeouts"
   ]
  },
  {
   "cell_type": "markdown",
   "id": "aging-setup",
   "metadata": {},
   "source": [
    "# Scale topology size"
   ]
  },
  {
   "cell_type": "code",
   "execution_count": 13,
   "id": "concerned-framing",
   "metadata": {},
   "outputs": [
    {
     "ename": "NameError",
     "evalue": "name 'container_id' is not defined",
     "output_type": "error",
     "traceback": [
      "\u001b[1;31m---------------------------------------------------------------------------\u001b[0m",
      "\u001b[1;31mNameError\u001b[0m                                 Traceback (most recent call last)",
      "\u001b[1;32m<ipython-input-13-af3afad01a6d>\u001b[0m in \u001b[0;36m<module>\u001b[1;34m\u001b[0m\n\u001b[0;32m     16\u001b[0m \u001b[1;32mfor\u001b[0m \u001b[0mj\u001b[0m \u001b[1;32min\u001b[0m \u001b[0mrange\u001b[0m\u001b[1;33m(\u001b[0m\u001b[0mconfig\u001b[0m\u001b[1;33m.\u001b[0m\u001b[0mnr_es\u001b[0m\u001b[1;33m)\u001b[0m\u001b[1;33m:\u001b[0m\u001b[1;33m\u001b[0m\u001b[1;33m\u001b[0m\u001b[0m\n\u001b[0;32m     17\u001b[0m     \u001b[0mes_utilization_dict\u001b[0m\u001b[1;33m[\u001b[0m\u001b[1;34mf\"ES{j}\"\u001b[0m\u001b[1;33m]\u001b[0m \u001b[1;33m=\u001b[0m \u001b[1;36m0\u001b[0m\u001b[1;33m\u001b[0m\u001b[1;33m\u001b[0m\u001b[0m\n\u001b[1;32m---> 18\u001b[1;33m \u001b[0mapp_lst\u001b[0m \u001b[1;33m=\u001b[0m \u001b[0mapp_creator\u001b[0m\u001b[1;33m.\u001b[0m\u001b[0mcreate_apps\u001b[0m\u001b[1;33m(\u001b[0m\u001b[1;34mf\"app{i}\"\u001b[0m\u001b[1;33m,\u001b[0m \u001b[0mconfig\u001b[0m\u001b[1;33m,\u001b[0m \u001b[0mes_utilization_dict\u001b[0m\u001b[1;33m,\u001b[0m \u001b[0mtasks_per_app\u001b[0m\u001b[1;33m,\u001b[0m \u001b[1;32mTrue\u001b[0m\u001b[1;33m,\u001b[0m \u001b[0mcontainer_id\u001b[0m\u001b[1;33m)\u001b[0m\u001b[1;33m\u001b[0m\u001b[1;33m\u001b[0m\u001b[0m\n\u001b[0m\u001b[0;32m     19\u001b[0m \u001b[1;33m\u001b[0m\u001b[0m\n\u001b[0;32m     20\u001b[0m \u001b[1;32mfor\u001b[0m \u001b[0mi\u001b[0m \u001b[1;32min\u001b[0m \u001b[0mrange\u001b[0m\u001b[1;33m(\u001b[0m\u001b[1;36m10\u001b[0m\u001b[1;33m)\u001b[0m\u001b[1;33m:\u001b[0m\u001b[1;33m\u001b[0m\u001b[1;33m\u001b[0m\u001b[0m\n",
      "\u001b[1;31mNameError\u001b[0m: name 'container_id' is not defined"
     ]
    }
   ],
   "source": [
    "nr_sws = [2, 4, 6, 8, 10, 12, 14, 16, 18, 20]\n",
    "\n",
    "config = testcase_generation_config()\n",
    "config.app_task_connection_probability = 0.4\n",
    "config.nr_tasks = 24\n",
    "config.nr_dags = (config.nr_tasks // 8) + 1\n",
    "config.periods = [10000, 15000, 20000, 50000]\n",
    "config.link_speed = 12.5 # 100 mbit\n",
    "config.stream_max_rl = 3\n",
    "config.connections_per_es = min(config.nr_sw, 4)\n",
    "config.nr_es = 16\n",
    "\n",
    "tasks_per_app = config.nr_tasks // config.nr_dags\n",
    "\n",
    "es_utilization_dict = {}\n",
    "for j in range(config.nr_es):\n",
    "    es_utilization_dict[f\"ES{j}\"] = 0\n",
    "    \n",
    "for k in range(config.nr_dags):\n",
    "    app_lst.append(app_creator.create_apps(f\"app{k}\", config, es_utilization_dict, tasks_per_app, True, \"\"))\n",
    "\n",
    "for i in range(10):\n",
    "    config.nr_sw = nr_sws[i]\n",
    "    config.connections_per_sw = config.nr_sw -1\n",
    "    \n",
    "    G, points_sw, points_es = topology_creator.generate_topology(config.nr_sw, config.nr_es, config.connections_per_sw,\n",
    "                                                                     config.connections_per_es, True)\n",
    "\n",
    "    path = create_testcase_with_topology_and_dags_and_apps(config, Path(f\"../../testcases/scalability_figure/topo_size/topo_size{i}.flex_network_description\"), G, points_sw, points_es, app_lst, es_utilization_dict, \"\")\n"
   ]
  },
  {
   "cell_type": "code",
   "execution_count": null,
   "id": "extra-redhead",
   "metadata": {},
   "outputs": [],
   "source": []
  }
 ],
 "metadata": {
  "kernelspec": {
   "display_name": "Python 3",
   "language": "python",
   "name": "python3"
  },
  "language_info": {
   "codemirror_mode": {
    "name": "ipython",
    "version": 3
   },
   "file_extension": ".py",
   "mimetype": "text/x-python",
   "name": "python",
   "nbconvert_exporter": "python",
   "pygments_lexer": "ipython3",
   "version": "3.9.1"
  }
 },
 "nbformat": 4,
 "nbformat_minor": 5
}
