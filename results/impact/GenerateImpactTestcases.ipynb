{
 "cells": [
  {
   "cell_type": "code",
   "execution_count": null,
   "id": "moderate-marble",
   "metadata": {},
   "outputs": [],
   "source": [
    "%matplotlib inline\n",
    "%load_ext autoreload\n",
    "%autoreload 2\n",
    "from utils.testcase_creator import *\n",
    "from utils.app_creator import create_dags\n",
    "from optimization.sa.task_graph import PrecedenceGraph\n",
    "import networkx as nx\n",
    "import main\n",
    "from pathlib import Path\n",
    "from input.input_parameters import InputParameters, EMode, Timeouts"
   ]
  },
  {
   "cell_type": "markdown",
   "id": "latin-trace",
   "metadata": {},
   "source": [
    "# Create random application DAGs\n",
    "- Clone https://github.com/perarnau/ggen\n",
    "- Run vagrant container (\"vagrant up\")\n",
    "- Map utils/apps/ folder to /apps in container\n",
    "- Run \"vagrant global-status\" to obtain CONTAINER_ID"
   ]
  },
  {
   "cell_type": "code",
   "execution_count": null,
   "id": "naval-attendance",
   "metadata": {},
   "outputs": [],
   "source": [
    "CONTAINER_ID = \"a9ff793\""
   ]
  },
  {
   "cell_type": "code",
   "execution_count": null,
   "id": "senior-absence",
   "metadata": {
    "scrolled": true
   },
   "outputs": [],
   "source": [
    "config.app_task_connection_probability = 0.4\n",
    "config.nr_tasks = 24\n",
    "config.nr_dags = (config.nr_tasks // 8) + 1\n",
    "config.periods = [10000, 15000, 20000, 50000]\n",
    "        \n",
    "# Create set of DAGs\n",
    "for i in range(10):\n",
    "    create_dags(config.nr_tasks // config.nr_dags, random.randint(config.min_app_depth, config.max_app_depth), config.app_task_connection_probability, f\"dag{i}\", CONTAINER_ID)\n"
   ]
  },
  {
   "cell_type": "code",
   "execution_count": null,
   "id": "mineral-handling",
   "metadata": {},
   "outputs": [],
   "source": [
    "batch_nr = 4\n",
    "cases_per_batch = 25\n",
    "\n",
    "\n",
    "# Create topology\n",
    "config = testcase_generation_config()\n",
    "config.app_task_connection_probability = 0.4\n",
    "config.nr_tasks = 24\n",
    "config.nr_dags = (config.nr_tasks // 8) + 1\n",
    "config.periods = [10000, 15000, 20000, 50000]\n",
    "config.nr_sw = 8\n",
    "config.nr_es = 16\n",
    "config.link_speed = 12.5 # 100 mbit\n",
    "config.connections_per_sw = config.nr_sw -1\n",
    "config.stream_max_rl = 3\n",
    "config.connections_per_es = 5\n",
    "G, points_sw, points_es = topology_creator.generate_topology(config.nr_sw, config.nr_es, config.connections_per_sw,\n",
    "                                                                 config.connections_per_es)\n",
    "i = 2    \n",
    "for j in range(cases_per_batch):\n",
    "        if i == 0:\n",
    "            config.stream_min_size = 1000\n",
    "            config.stream_max_size = 1500\n",
    "            config.max_task_period_percentage = 0.02\n",
    "        if i == 1:\n",
    "            config.stream_min_size = 1000\n",
    "            config.stream_max_size = 1500\n",
    "            config.max_task_period_percentage = 0.1\n",
    "        if i == 3:\n",
    "            config.stream_min_size = 1\n",
    "            config.stream_max_size = 250\n",
    "            config.max_task_period_percentage = 0.02\n",
    "        if i == 2:\n",
    "            config.stream_min_size = 1\n",
    "            config.stream_max_size = 250\n",
    "            config.max_task_period_percentage = 0.1\n",
    "            \n",
    "\n",
    "        path = create_testcase_with_topology_and_dags(config, Path(f\"testcases/impact/batch{i}{j}.flex_network_description\"), G, points_sw, points_es, CONTAINER_ID)\n",
    "        #solution_object = main.run(InputParameters(EMode.VIEW, Timeouts(0, 0, 0), path, True, \"\", 8050, False, False, False))"
   ]
  },
  {
   "cell_type": "code",
   "execution_count": null,
   "id": "exclusive-secretary",
   "metadata": {},
   "outputs": [],
   "source": []
  }
 ],
 "metadata": {
  "kernelspec": {
   "display_name": "Python 3",
   "language": "python",
   "name": "python3"
  },
  "language_info": {
   "codemirror_mode": {
    "name": "ipython",
    "version": 3
   },
   "file_extension": ".py",
   "mimetype": "text/x-python",
   "name": "python",
   "nbconvert_exporter": "python",
   "pygments_lexer": "ipython3",
   "version": "3.9.1"
  }
 },
 "nbformat": 4,
 "nbformat_minor": 5
}
