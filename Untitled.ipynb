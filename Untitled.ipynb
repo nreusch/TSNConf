{
 "cells": [
  {
   "cell_type": "code",
   "execution_count": 1,
   "id": "level-finnish",
   "metadata": {},
   "outputs": [],
   "source": [
    "import subprocess\n",
    "import time\n",
    "import pandas as pd\n",
    "from input.input_parameters import EMode"
   ]
  },
  {
   "cell_type": "code",
   "execution_count": 2,
   "id": "younger-highlight",
   "metadata": {},
   "outputs": [],
   "source": [
    "def run_experiment(testcase, mode, aggregate_path, no_redundancy, no_security, timeout_routing, timeout_scheduling):\n",
    "    print(\"Starting experiment...\")\n",
    "    python_bin = \".venv/Scripts/python.exe\"\n",
    "    args = [python_bin, \"main.py\", testcase, \"--mode\", str(mode)]\n",
    "    if aggregate_path != \"\":\n",
    "        args.append(\"--aggregate\")\n",
    "        args.append(aggregate_path)\n",
    "    if no_redundancy:\n",
    "        args.append(\"--no_redundancy\")\n",
    "    if no_security:\n",
    "        args.append(\"--no_security\")\n",
    "    if timeout_routing != \"\":\n",
    "        args.append(\"--timeout_routing\")\n",
    "        args.append(str(timeout_routing))\n",
    "    if timeout_scheduling != \"\":\n",
    "        args.append(\"--timeout_scheduling\")\n",
    "        args.append(str(timeout_scheduling))\n",
    "    \n",
    "    cp = subprocess.run(args, capture_output=True)\n",
    "    print(cp.stdout.decode(\"utf-8\"))\n",
    "    print(cp.stderr.decode(\"utf-8\"))"
   ]
  },
  {
   "cell_type": "markdown",
   "id": "angry-orientation",
   "metadata": {},
   "source": [
    "## Available Modes"
   ]
  },
  {
   "cell_type": "code",
   "execution_count": 3,
   "id": "dense-petite",
   "metadata": {},
   "outputs": [
    {
     "name": "stdout",
     "output_type": "stream",
     "text": [
      "VIEW: 0\n",
      "ALL_CP_ROUTING_AND_SCHEDULING: 1\n",
      "ALL_CP_ROUTING_AND_SCHEDULING_PINT_COMBINED: 2\n",
      "ALL_CP_ROUTING_AND_SCHEDULING_NO_SEC_NO_RED_NO_OPT: 3\n",
      "ALL_CP_ROUTING_AND_SCHEDULING_NO_SEC_NO_RED: 4\n",
      "ONLY_CP_SCHEDULING: 5\n",
      "SA_ROUTING_ASAP_SCHEDULING: 21\n",
      "SA_ROUTING_SA_SCHEDULING: 22\n",
      "SA_ROUTING_SA_SCHEDULING_COMB: 23\n"
     ]
    }
   ],
   "source": [
    "print(\"\\n\".join([f\"{EMode(x).name}: {x}\" for x in EMode.list()]))"
   ]
  },
  {
   "cell_type": "markdown",
   "id": "express-boulder",
   "metadata": {},
   "source": [
    "## Run Experiments"
   ]
  },
  {
   "cell_type": "code",
   "execution_count": 7,
   "id": "intellectual-array",
   "metadata": {},
   "outputs": [
    {
     "name": "stdout",
     "output_type": "stream",
     "text": [
      "Starting experiment...\n",
      "\n",
      "--------------------------------------------------------------------------------\n",
      "Testcase: TC0_example\n",
      "Mode 1: CP Routing, CP Scheduling, Security, Redundancy, Optimization\n",
      "Timeout Pint: 60s\n",
      "Timeout Routing: 30s\n",
      "Timeout Scheduling: 30\n",
      "(If combined routing+scheduling, Timeout Scheduling is used)\n",
      "--------------------------------------------------------------------------------\n",
      "\n",
      "---------- 1. Running the chosen mode\n",
      "-------------------- Parsed testcase: TC0_example, in 1.03 ms\n",
      "-------------------- Found Pint: 500,  in 2.00 ms\n",
      "-------------------- Created 2 Security Applications,  in 0.00 ms\n",
      "-------------------- Found Routing, in 151.00 ms\n",
      "-------------------- Found Schedule in 289.00 ms\n",
      "---------- 2. Serializing the solution\n",
      "-------------------- Serialized solution to: testcases\\output\\TC0_example_mode1_60_30_30_0.6,  in 4672.28 ms\n",
      "-------------------- Aggregated solution to: testcases\\aggregate_test.csv\n",
      "---------- 3. Printing results\n",
      "TC0_example: 4 ES, 2 SW, 9 Tasks, 6 Streams, 1765 Laxity, 2.46% Bandwidth , 15.00% CPU , 583.14ms Optimization Time, Missed Deadlines 0/3, Routing OPTIMAL, Scheduling OPTIMAL\n",
      "--------------------------\n",
      "\n",
      "\n",
      "\n",
      "Starting experiment...\n",
      "\n",
      "--------------------------------------------------------------------------------\n",
      "Testcase: TC0_example\n",
      "Mode 21: SA Routing, ASAP Scheduling, Security, Redundancy, Optimization\n",
      "Timeout Pint: 60s\n",
      "Timeout Routing: 30s\n",
      "Timeout Scheduling: 30\n",
      "(If combined routing+scheduling, Timeout Scheduling is used)\n",
      "--------------------------------------------------------------------------------\n",
      "\n",
      "---------- 1. Running the chosen mode\n",
      "-------------------- Parsed testcase: TC0_example, in 1.00 ms\n",
      "-------------------- Found Pint: 500,  in 3.00 ms\n",
      "-------------------- Created 2 Security Applications,  in 0.00 ms\n",
      "INITIAL COST: 136\n",
      "\n",
      "NEW BEST COST: 117\n",
      "NEW BEST COST: 76\n",
      "NEW BEST COST: 57\n",
      "NEW BEST COST: 16\n",
      "-------------------- Found Routing, in 3000.07 ms\n",
      "-------------------- Found Schedule in 0.00 ms\n",
      "---------- 2. Serializing the solution\n",
      "-------------------- Serialized solution to: testcases\\output\\TC0_example_mode21_60_30_30_0.6,  in 3268.54 ms\n",
      "-------------------- Aggregated solution to: testcases\\aggregate_test.csv\n",
      "---------- 3. Printing results\n",
      "TC0_example: 4 ES, 2 SW, 9 Tasks, 6 Streams, 1065 Laxity, 2.46% Bandwidth , 15.00% CPU , 3003.07ms Optimization Time, Missed Deadlines 0/3, Routing FEASIBLE, Scheduling FEASIBLE\n",
      "--------------------------\n",
      "\n",
      "\n",
      "\n",
      "Starting experiment...\n",
      "\n",
      "--------------------------------------------------------------------------------\n",
      "Testcase: TC0_example\n",
      "Mode 22: SA Routing, SA Scheduling, Security, Redundancy, Optimization\n",
      "Timeout Pint: 60s\n",
      "Timeout Routing: 30s\n",
      "Timeout Scheduling: 30\n",
      "(If combined routing+scheduling, Timeout Scheduling is used)\n",
      "--------------------------------------------------------------------------------\n",
      "\n",
      "---------- 1. Running the chosen mode\n",
      "-------------------- Parsed testcase: TC0_example, in 3.00 ms\n",
      "-------------------- Found Pint: 500,  in 5.00 ms\n",
      "-------------------- Created 2 Security Applications,  in 0.00 ms\n",
      "INITIAL COST: 136\n",
      "\n",
      "NEW BEST COST: 117\n",
      "NEW BEST COST: 98\n",
      "NEW BEST COST: 57\n",
      "NEW BEST COST: 16\n",
      "-------------------- Found Routing, in 3000.05 ms\n",
      "INITIAL COST: 1778; INFEASIBLE TGN: 0; ORDER: [TGA_App1]\n",
      "\n",
      "-------------------- Found Schedule in 30021.88 ms\n",
      "---------- 2. Serializing the solution\n",
      "-------------------- Serialized solution to: testcases\\output\\TC0_example_mode22_60_30_30_0.6,  in 3507.78 ms\n",
      "-------------------- Aggregated solution to: testcases\\aggregate_test.csv\n",
      "---------- 3. Printing results\n",
      "TC0_example: 4 ES, 2 SW, 9 Tasks, 6 Streams, 1065 Laxity, 2.46% Bandwidth , 15.00% CPU , 33027.93ms Optimization Time, Missed Deadlines 0/3, Routing FEASIBLE, Scheduling FEASIBLE\n",
      "--------------------------\n",
      "\n",
      "\n",
      "\n",
      "Starting experiment...\n",
      "\n",
      "--------------------------------------------------------------------------------\n",
      "Testcase: TC0_example\n",
      "Mode 23: SA Routing+Scheduling, Security, Redundancy, Optimization\n",
      "Timeout Pint: 60s\n",
      "Timeout Routing: 30s\n",
      "Timeout Scheduling: 30\n",
      "(If combined routing+scheduling, Timeout Scheduling is used)\n",
      "--------------------------------------------------------------------------------\n",
      "\n",
      "---------- 1. Running the chosen mode\n",
      "-------------------- Parsed testcase: TC0_example, in 1.00 ms\n",
      "-------------------- Found Pint: 500,  in 5.00 ms\n",
      "-------------------- Created 2 Security Applications,  in 0.00 ms\n",
      "INITIAL COST: 1806; INFEASIBLE TGN: 0; ROUTING COST: 12\n",
      "ROUTING SOLUTION: {'s1_0': {'ES3': ['ES1', 'SW1', 'ES3']}, 's2_0': {'ES3': ['ES2', 'SW1', 'ES3'], 'ES4': ['ES2', 'SW1', 'ES4']}, 's2_1': {'ES3': ['ES2', 'SW1', 'ES3'], 'ES4': ['ES2', 'SW1', 'ES4']}, 's_key_ES1_0': {'ES3': ['ES1', 'SW1', 'ES3']}, 's_key_ES2_0': {'ES3': ['ES2', 'SW1', 'ES3'], 'ES4': ['ES2', 'SW1', 'ES4']}, 's_key_ES2_1': {'ES3': ['ES2', 'SW1', 'ES3'], 'ES4': ['ES2', 'SW1', 'ES4']}}\n",
      "SCHEDULING SOLUTION: [TGA_App1]\n",
      "\n",
      "NEW BEST COST: 1804; INFEASIBLE TGN: 0; ROUTING COST: 10\n",
      "ROUTING SOLUTION: {'s1_0': {'ES3': ['ES1', 'SW1', 'ES3']}, 's2_0': {'ES3': ['ES2', 'SW2', 'ES3'], 'ES4': ['ES2', 'SW1', 'ES4']}, 's2_1': {'ES3': ['ES2', 'SW1', 'ES3'], 'ES4': ['ES2', 'SW1', 'ES4']}, 's_key_ES1_0': {'ES3': ['ES1', 'SW1', 'ES3']}, 's_key_ES2_0': {'ES3': ['ES2', 'SW1', 'ES3'], 'ES4': ['ES2', 'SW1', 'ES4']}, 's_key_ES2_1': {'ES3': ['ES2', 'SW1', 'ES3'], 'ES4': ['ES2', 'SW1', 'ES4']}}\n",
      "SCHEDULING SOLUTION: [TGA_App1]\n",
      "NEW BEST COST: 1796; INFEASIBLE TGN: 0; ROUTING COST: 10\n",
      "ROUTING SOLUTION: {'s1_0': {'ES3': ['ES1', 'SW1', 'ES3']}, 's2_0': {'ES3': ['ES2', 'SW2', 'ES3'], 'ES4': ['ES2', 'SW1', 'ES4']}, 's2_1': {'ES3': ['ES2', 'SW1', 'ES3'], 'ES4': ['ES2', 'SW1', 'ES4']}, 's_key_ES1_0': {'ES3': ['ES1', 'SW2', 'ES3']}, 's_key_ES2_0': {'ES3': ['ES2', 'SW1', 'ES3'], 'ES4': ['ES2', 'SW1', 'ES4']}, 's_key_ES2_1': {'ES3': ['ES2', 'SW1', 'ES3'], 'ES4': ['ES2', 'SW1', 'ES4']}}\n",
      "SCHEDULING SOLUTION: [TGA_App1]\n",
      "NEW BEST COST: 1794; INFEASIBLE TGN: 0; ROUTING COST: 8\n",
      "ROUTING SOLUTION: {'s1_0': {'ES3': ['ES1', 'SW1', 'ES3']}, 's2_0': {'ES3': ['ES2', 'SW2', 'ES3'], 'ES4': ['ES2', 'SW1', 'ES4']}, 's2_1': {'ES3': ['ES2', 'SW1', 'ES3'], 'ES4': ['ES2', 'SW1', 'ES4']}, 's_key_ES1_0': {'ES3': ['ES1', 'SW2', 'ES3']}, 's_key_ES2_0': {'ES3': ['ES2', 'SW1', 'ES3'], 'ES4': ['ES2', 'SW1', 'ES4']}, 's_key_ES2_1': {'ES3': ['ES2', 'SW1', 'ES3'], 'ES4': ['ES2', 'SW2', 'ES4']}}\n",
      "SCHEDULING SOLUTION: [TGA_App1]\n",
      "NEW BEST COST: 1730; INFEASIBLE TGN: 0; ROUTING COST: 8\n",
      "ROUTING SOLUTION: {'s1_0': {'ES3': ['ES1', 'SW2', 'ES3']}, 's2_0': {'ES3': ['ES2', 'SW2', 'ES3'], 'ES4': ['ES2', 'SW1', 'ES4']}, 's2_1': {'ES3': ['ES2', 'SW1', 'ES3'], 'ES4': ['ES2', 'SW1', 'ES4']}, 's_key_ES1_0': {'ES3': ['ES1', 'SW2', 'ES3']}, 's_key_ES2_0': {'ES3': ['ES2', 'SW1', 'ES3'], 'ES4': ['ES2', 'SW1', 'ES4']}, 's_key_ES2_1': {'ES3': ['ES2', 'SW1', 'ES3'], 'ES4': ['ES2', 'SW2', 'ES4']}}\n",
      "SCHEDULING SOLUTION: [TGA_App1]\n",
      "NEW BEST COST: 1714; INFEASIBLE TGN: 0; ROUTING COST: 8\n",
      "ROUTING SOLUTION: {'s1_0': {'ES3': ['ES1', 'SW2', 'ES3']}, 's2_0': {'ES3': ['ES2', 'SW2', 'ES3'], 'ES4': ['ES2', 'SW1', 'ES4']}, 's2_1': {'ES3': ['ES2', 'SW1', 'ES3'], 'ES4': ['ES2', 'SW1', 'ES4']}, 's_key_ES1_0': {'ES3': ['ES1', 'SW2', 'ES3']}, 's_key_ES2_0': {'ES3': ['ES2', 'SW2', 'ES3'], 'ES4': ['ES2', 'SW1', 'ES4']}, 's_key_ES2_1': {'ES3': ['ES2', 'SW2', 'ES3'], 'ES4': ['ES2', 'SW2', 'ES4']}}\n",
      "SCHEDULING SOLUTION: [TGA_App1]\n",
      "NEW BEST COST: 1710; INFEASIBLE TGN: 0; ROUTING COST: 4\n",
      "ROUTING SOLUTION: {'s1_0': {'ES3': ['ES1', 'SW2', 'ES3']}, 's2_0': {'ES3': ['ES2', 'SW2', 'ES3'], 'ES4': ['ES2', 'SW2', 'ES4']}, 's2_1': {'ES3': ['ES2', 'SW1', 'ES3'], 'ES4': ['ES2', 'SW1', 'ES4']}, 's_key_ES1_0': {'ES3': ['ES1', 'SW2', 'ES3']}, 's_key_ES2_0': {'ES3': ['ES2', 'SW2', 'ES3'], 'ES4': ['ES2', 'SW1', 'ES4']}, 's_key_ES2_1': {'ES3': ['ES2', 'SW2', 'ES3'], 'ES4': ['ES2', 'SW2', 'ES4']}}\n",
      "SCHEDULING SOLUTION: [TGA_App1]\n",
      "-------------------- Found Schedule in 30041.45 ms\n",
      "---------- 2. Serializing the solution\n",
      "-------------------- Serialized solution to: testcases\\output\\TC0_example_mode23_60_30_30_0.6,  in 2947.06 ms\n",
      "-------------------- Aggregated solution to: testcases\\aggregate_test.csv\n",
      "---------- 3. Printing results\n",
      "TC0_example: 4 ES, 2 SW, 9 Tasks, 6 Streams, 1065 Laxity, 2.49% Bandwidth , 15.00% CPU , 30047.45ms Optimization Time, Missed Deadlines 0/3, Routing NOT_OPTIMIZED, Scheduling FEASIBLE\n",
      "--------------------------\n",
      "\n",
      "\n",
      "\n"
     ]
    },
    {
     "data": {
      "text/html": [
       "<div>\n",
       "<style scoped>\n",
       "    .dataframe tbody tr th:only-of-type {\n",
       "        vertical-align: middle;\n",
       "    }\n",
       "\n",
       "    .dataframe tbody tr th {\n",
       "        vertical-align: top;\n",
       "    }\n",
       "\n",
       "    .dataframe thead th {\n",
       "        text-align: right;\n",
       "    }\n",
       "</style>\n",
       "<table border=\"1\" class=\"dataframe\">\n",
       "  <thead>\n",
       "    <tr style=\"text-align: right;\">\n",
       "      <th></th>\n",
       "      <th>Testcase Name</th>\n",
       "      <th>Mode</th>\n",
       "      <th>Overlap Amount</th>\n",
       "      <th>Laxity Sum</th>\n",
       "      <th>Time</th>\n",
       "    </tr>\n",
       "  </thead>\n",
       "  <tbody>\n",
       "    <tr>\n",
       "      <th>0</th>\n",
       "      <td>TC0_example</td>\n",
       "      <td>1</td>\n",
       "      <td>12</td>\n",
       "      <td>1765</td>\n",
       "      <td>596.006632</td>\n",
       "    </tr>\n",
       "    <tr>\n",
       "      <th>1</th>\n",
       "      <td>TC0_example</td>\n",
       "      <td>1</td>\n",
       "      <td>12</td>\n",
       "      <td>1765</td>\n",
       "      <td>862.029076</td>\n",
       "    </tr>\n",
       "    <tr>\n",
       "      <th>2</th>\n",
       "      <td>TC0_example</td>\n",
       "      <td>21</td>\n",
       "      <td>0</td>\n",
       "      <td>1057</td>\n",
       "      <td>3006.110668</td>\n",
       "    </tr>\n",
       "    <tr>\n",
       "      <th>3</th>\n",
       "      <td>TC0_example</td>\n",
       "      <td>22</td>\n",
       "      <td>0</td>\n",
       "      <td>1045</td>\n",
       "      <td>33033.544064</td>\n",
       "    </tr>\n",
       "    <tr>\n",
       "      <th>4</th>\n",
       "      <td>TC0_example</td>\n",
       "      <td>23</td>\n",
       "      <td>-1</td>\n",
       "      <td>1065</td>\n",
       "      <td>30031.680584</td>\n",
       "    </tr>\n",
       "    <tr>\n",
       "      <th>5</th>\n",
       "      <td>TC0_example</td>\n",
       "      <td>1</td>\n",
       "      <td>12</td>\n",
       "      <td>1765</td>\n",
       "      <td>583.144903</td>\n",
       "    </tr>\n",
       "    <tr>\n",
       "      <th>6</th>\n",
       "      <td>TC0_example</td>\n",
       "      <td>21</td>\n",
       "      <td>0</td>\n",
       "      <td>1065</td>\n",
       "      <td>3003.069878</td>\n",
       "    </tr>\n",
       "    <tr>\n",
       "      <th>7</th>\n",
       "      <td>TC0_example</td>\n",
       "      <td>22</td>\n",
       "      <td>0</td>\n",
       "      <td>1065</td>\n",
       "      <td>33027.928352</td>\n",
       "    </tr>\n",
       "    <tr>\n",
       "      <th>8</th>\n",
       "      <td>TC0_example</td>\n",
       "      <td>23</td>\n",
       "      <td>-1</td>\n",
       "      <td>1065</td>\n",
       "      <td>30047.445297</td>\n",
       "    </tr>\n",
       "  </tbody>\n",
       "</table>\n",
       "</div>"
      ],
      "text/plain": [
       "  Testcase Name  Mode  Overlap Amount  Laxity Sum          Time\n",
       "0   TC0_example     1              12        1765    596.006632\n",
       "1   TC0_example     1              12        1765    862.029076\n",
       "2   TC0_example    21               0        1057   3006.110668\n",
       "3   TC0_example    22               0        1045  33033.544064\n",
       "4   TC0_example    23              -1        1065  30031.680584\n",
       "5   TC0_example     1              12        1765    583.144903\n",
       "6   TC0_example    21               0        1065   3003.069878\n",
       "7   TC0_example    22               0        1065  33027.928352\n",
       "8   TC0_example    23              -1        1065  30047.445297"
      ]
     },
     "execution_count": 7,
     "metadata": {},
     "output_type": "execute_result"
    }
   ],
   "source": [
    "run_experiment(\"testcases/TC0_example.flex_network_description\", 1, \"testcases/aggregate_test.csv\", False, False, 30, 30)\n",
    "run_experiment(\"testcases/TC0_example.flex_network_description\", 21, \"testcases/aggregate_test.csv\", False, False, 30, 30)\n",
    "run_experiment(\"testcases/TC0_example.flex_network_description\", 22, \"testcases/aggregate_test.csv\", False, False, 30, 30)\n",
    "run_experiment(\"testcases/TC0_example.flex_network_description\", 23, \"testcases/aggregate_test.csv\", False, False, 30, 30)\n",
    "df = pd.read_csv(\"testcases/aggregate_test.csv\", sep=\",\", skiprows=[0])\n",
    "df"
   ]
  },
  {
   "cell_type": "code",
   "execution_count": 8,
   "id": "limiting-easter",
   "metadata": {},
   "outputs": [
    {
     "data": {
      "text/html": [
       "<div>\n",
       "<style scoped>\n",
       "    .dataframe tbody tr th:only-of-type {\n",
       "        vertical-align: middle;\n",
       "    }\n",
       "\n",
       "    .dataframe tbody tr th {\n",
       "        vertical-align: top;\n",
       "    }\n",
       "\n",
       "    .dataframe thead th {\n",
       "        text-align: right;\n",
       "    }\n",
       "</style>\n",
       "<table border=\"1\" class=\"dataframe\">\n",
       "  <thead>\n",
       "    <tr style=\"text-align: right;\">\n",
       "      <th></th>\n",
       "      <th>Testcase Name</th>\n",
       "      <th>Mode</th>\n",
       "      <th>Overlap Amount</th>\n",
       "      <th>Laxity Sum</th>\n",
       "      <th>Time</th>\n",
       "    </tr>\n",
       "  </thead>\n",
       "  <tbody>\n",
       "    <tr>\n",
       "      <th>5</th>\n",
       "      <td>TC0_example</td>\n",
       "      <td>1</td>\n",
       "      <td>12</td>\n",
       "      <td>1765</td>\n",
       "      <td>583.144903</td>\n",
       "    </tr>\n",
       "    <tr>\n",
       "      <th>6</th>\n",
       "      <td>TC0_example</td>\n",
       "      <td>21</td>\n",
       "      <td>0</td>\n",
       "      <td>1065</td>\n",
       "      <td>3003.069878</td>\n",
       "    </tr>\n",
       "    <tr>\n",
       "      <th>7</th>\n",
       "      <td>TC0_example</td>\n",
       "      <td>22</td>\n",
       "      <td>0</td>\n",
       "      <td>1065</td>\n",
       "      <td>33027.928352</td>\n",
       "    </tr>\n",
       "    <tr>\n",
       "      <th>8</th>\n",
       "      <td>TC0_example</td>\n",
       "      <td>23</td>\n",
       "      <td>-1</td>\n",
       "      <td>1065</td>\n",
       "      <td>30047.445297</td>\n",
       "    </tr>\n",
       "  </tbody>\n",
       "</table>\n",
       "</div>"
      ],
      "text/plain": [
       "  Testcase Name  Mode  Overlap Amount  Laxity Sum          Time\n",
       "5   TC0_example     1              12        1765    583.144903\n",
       "6   TC0_example    21               0        1065   3003.069878\n",
       "7   TC0_example    22               0        1065  33027.928352\n",
       "8   TC0_example    23              -1        1065  30047.445297"
      ]
     },
     "execution_count": 8,
     "metadata": {},
     "output_type": "execute_result"
    }
   ],
   "source": [
    "df_dd = df.drop_duplicates(subset=[\"Mode\"], keep=\"last\")\n",
    "df_dd"
   ]
  },
  {
   "cell_type": "code",
   "execution_count": 32,
   "id": "registered-magazine",
   "metadata": {},
   "outputs": [
    {
     "data": {
      "application/vnd.plotly.v1+json": {
       "config": {
        "plotlyServerURL": "https://plot.ly"
       },
       "data": [
        {
         "marker": {
          "color": [
           "#003f5c",
           "#2f4b7c",
           "#665191",
           "#a05195",
           "#d45087",
           "#f95d6a",
           "#ff7c43",
           "#ffa600"
          ]
         },
         "name": "Laxity Sum",
         "orientation": "h",
         "type": "bar",
         "x": [
          1765,
          1065,
          1065,
          1065
         ],
         "xaxis": "x",
         "y": [
          "ALL_CP_ROUTING_AND_SCHEDULING",
          "SA_ROUTING_ASAP_SCHEDULING",
          "SA_ROUTING_SA_SCHEDULING",
          "SA_ROUTING_SA_SCHEDULING_COMB"
         ],
         "yaxis": "y"
        },
        {
         "marker": {
          "color": [
           "#003f5c",
           "#2f4b7c",
           "#665191",
           "#a05195",
           "#d45087",
           "#f95d6a",
           "#ff7c43",
           "#ffa600"
          ]
         },
         "name": "Overlaps",
         "orientation": "h",
         "type": "bar",
         "x": [
          12,
          0,
          0,
          -1
         ],
         "xaxis": "x2",
         "y": [
          "ALL_CP_ROUTING_AND_SCHEDULING",
          "SA_ROUTING_ASAP_SCHEDULING",
          "SA_ROUTING_SA_SCHEDULING",
          "SA_ROUTING_SA_SCHEDULING_COMB"
         ],
         "yaxis": "y2"
        },
        {
         "marker": {
          "color": [
           "#003f5c",
           "#2f4b7c",
           "#665191",
           "#a05195",
           "#d45087",
           "#f95d6a",
           "#ff7c43",
           "#ffa600"
          ]
         },
         "name": "Time",
         "orientation": "h",
         "type": "bar",
         "x": [
          583.1449031829834,
          3003.0698776245117,
          33027.928352355964,
          30047.44529724121
         ],
         "xaxis": "x3",
         "y": [
          "ALL_CP_ROUTING_AND_SCHEDULING",
          "SA_ROUTING_ASAP_SCHEDULING",
          "SA_ROUTING_SA_SCHEDULING",
          "SA_ROUTING_SA_SCHEDULING_COMB"
         ],
         "yaxis": "y3"
        }
       ],
       "layout": {
        "template": {
         "data": {
          "bar": [
           {
            "error_x": {
             "color": "#2a3f5f"
            },
            "error_y": {
             "color": "#2a3f5f"
            },
            "marker": {
             "line": {
              "color": "#E5ECF6",
              "width": 0.5
             }
            },
            "type": "bar"
           }
          ],
          "barpolar": [
           {
            "marker": {
             "line": {
              "color": "#E5ECF6",
              "width": 0.5
             }
            },
            "type": "barpolar"
           }
          ],
          "carpet": [
           {
            "aaxis": {
             "endlinecolor": "#2a3f5f",
             "gridcolor": "white",
             "linecolor": "white",
             "minorgridcolor": "white",
             "startlinecolor": "#2a3f5f"
            },
            "baxis": {
             "endlinecolor": "#2a3f5f",
             "gridcolor": "white",
             "linecolor": "white",
             "minorgridcolor": "white",
             "startlinecolor": "#2a3f5f"
            },
            "type": "carpet"
           }
          ],
          "choropleth": [
           {
            "colorbar": {
             "outlinewidth": 0,
             "ticks": ""
            },
            "type": "choropleth"
           }
          ],
          "contour": [
           {
            "colorbar": {
             "outlinewidth": 0,
             "ticks": ""
            },
            "colorscale": [
             [
              0,
              "#0d0887"
             ],
             [
              0.1111111111111111,
              "#46039f"
             ],
             [
              0.2222222222222222,
              "#7201a8"
             ],
             [
              0.3333333333333333,
              "#9c179e"
             ],
             [
              0.4444444444444444,
              "#bd3786"
             ],
             [
              0.5555555555555556,
              "#d8576b"
             ],
             [
              0.6666666666666666,
              "#ed7953"
             ],
             [
              0.7777777777777778,
              "#fb9f3a"
             ],
             [
              0.8888888888888888,
              "#fdca26"
             ],
             [
              1,
              "#f0f921"
             ]
            ],
            "type": "contour"
           }
          ],
          "contourcarpet": [
           {
            "colorbar": {
             "outlinewidth": 0,
             "ticks": ""
            },
            "type": "contourcarpet"
           }
          ],
          "heatmap": [
           {
            "colorbar": {
             "outlinewidth": 0,
             "ticks": ""
            },
            "colorscale": [
             [
              0,
              "#0d0887"
             ],
             [
              0.1111111111111111,
              "#46039f"
             ],
             [
              0.2222222222222222,
              "#7201a8"
             ],
             [
              0.3333333333333333,
              "#9c179e"
             ],
             [
              0.4444444444444444,
              "#bd3786"
             ],
             [
              0.5555555555555556,
              "#d8576b"
             ],
             [
              0.6666666666666666,
              "#ed7953"
             ],
             [
              0.7777777777777778,
              "#fb9f3a"
             ],
             [
              0.8888888888888888,
              "#fdca26"
             ],
             [
              1,
              "#f0f921"
             ]
            ],
            "type": "heatmap"
           }
          ],
          "heatmapgl": [
           {
            "colorbar": {
             "outlinewidth": 0,
             "ticks": ""
            },
            "colorscale": [
             [
              0,
              "#0d0887"
             ],
             [
              0.1111111111111111,
              "#46039f"
             ],
             [
              0.2222222222222222,
              "#7201a8"
             ],
             [
              0.3333333333333333,
              "#9c179e"
             ],
             [
              0.4444444444444444,
              "#bd3786"
             ],
             [
              0.5555555555555556,
              "#d8576b"
             ],
             [
              0.6666666666666666,
              "#ed7953"
             ],
             [
              0.7777777777777778,
              "#fb9f3a"
             ],
             [
              0.8888888888888888,
              "#fdca26"
             ],
             [
              1,
              "#f0f921"
             ]
            ],
            "type": "heatmapgl"
           }
          ],
          "histogram": [
           {
            "marker": {
             "colorbar": {
              "outlinewidth": 0,
              "ticks": ""
             }
            },
            "type": "histogram"
           }
          ],
          "histogram2d": [
           {
            "colorbar": {
             "outlinewidth": 0,
             "ticks": ""
            },
            "colorscale": [
             [
              0,
              "#0d0887"
             ],
             [
              0.1111111111111111,
              "#46039f"
             ],
             [
              0.2222222222222222,
              "#7201a8"
             ],
             [
              0.3333333333333333,
              "#9c179e"
             ],
             [
              0.4444444444444444,
              "#bd3786"
             ],
             [
              0.5555555555555556,
              "#d8576b"
             ],
             [
              0.6666666666666666,
              "#ed7953"
             ],
             [
              0.7777777777777778,
              "#fb9f3a"
             ],
             [
              0.8888888888888888,
              "#fdca26"
             ],
             [
              1,
              "#f0f921"
             ]
            ],
            "type": "histogram2d"
           }
          ],
          "histogram2dcontour": [
           {
            "colorbar": {
             "outlinewidth": 0,
             "ticks": ""
            },
            "colorscale": [
             [
              0,
              "#0d0887"
             ],
             [
              0.1111111111111111,
              "#46039f"
             ],
             [
              0.2222222222222222,
              "#7201a8"
             ],
             [
              0.3333333333333333,
              "#9c179e"
             ],
             [
              0.4444444444444444,
              "#bd3786"
             ],
             [
              0.5555555555555556,
              "#d8576b"
             ],
             [
              0.6666666666666666,
              "#ed7953"
             ],
             [
              0.7777777777777778,
              "#fb9f3a"
             ],
             [
              0.8888888888888888,
              "#fdca26"
             ],
             [
              1,
              "#f0f921"
             ]
            ],
            "type": "histogram2dcontour"
           }
          ],
          "mesh3d": [
           {
            "colorbar": {
             "outlinewidth": 0,
             "ticks": ""
            },
            "type": "mesh3d"
           }
          ],
          "parcoords": [
           {
            "line": {
             "colorbar": {
              "outlinewidth": 0,
              "ticks": ""
             }
            },
            "type": "parcoords"
           }
          ],
          "pie": [
           {
            "automargin": true,
            "type": "pie"
           }
          ],
          "scatter": [
           {
            "marker": {
             "colorbar": {
              "outlinewidth": 0,
              "ticks": ""
             }
            },
            "type": "scatter"
           }
          ],
          "scatter3d": [
           {
            "line": {
             "colorbar": {
              "outlinewidth": 0,
              "ticks": ""
             }
            },
            "marker": {
             "colorbar": {
              "outlinewidth": 0,
              "ticks": ""
             }
            },
            "type": "scatter3d"
           }
          ],
          "scattercarpet": [
           {
            "marker": {
             "colorbar": {
              "outlinewidth": 0,
              "ticks": ""
             }
            },
            "type": "scattercarpet"
           }
          ],
          "scattergeo": [
           {
            "marker": {
             "colorbar": {
              "outlinewidth": 0,
              "ticks": ""
             }
            },
            "type": "scattergeo"
           }
          ],
          "scattergl": [
           {
            "marker": {
             "colorbar": {
              "outlinewidth": 0,
              "ticks": ""
             }
            },
            "type": "scattergl"
           }
          ],
          "scattermapbox": [
           {
            "marker": {
             "colorbar": {
              "outlinewidth": 0,
              "ticks": ""
             }
            },
            "type": "scattermapbox"
           }
          ],
          "scatterpolar": [
           {
            "marker": {
             "colorbar": {
              "outlinewidth": 0,
              "ticks": ""
             }
            },
            "type": "scatterpolar"
           }
          ],
          "scatterpolargl": [
           {
            "marker": {
             "colorbar": {
              "outlinewidth": 0,
              "ticks": ""
             }
            },
            "type": "scatterpolargl"
           }
          ],
          "scatterternary": [
           {
            "marker": {
             "colorbar": {
              "outlinewidth": 0,
              "ticks": ""
             }
            },
            "type": "scatterternary"
           }
          ],
          "surface": [
           {
            "colorbar": {
             "outlinewidth": 0,
             "ticks": ""
            },
            "colorscale": [
             [
              0,
              "#0d0887"
             ],
             [
              0.1111111111111111,
              "#46039f"
             ],
             [
              0.2222222222222222,
              "#7201a8"
             ],
             [
              0.3333333333333333,
              "#9c179e"
             ],
             [
              0.4444444444444444,
              "#bd3786"
             ],
             [
              0.5555555555555556,
              "#d8576b"
             ],
             [
              0.6666666666666666,
              "#ed7953"
             ],
             [
              0.7777777777777778,
              "#fb9f3a"
             ],
             [
              0.8888888888888888,
              "#fdca26"
             ],
             [
              1,
              "#f0f921"
             ]
            ],
            "type": "surface"
           }
          ],
          "table": [
           {
            "cells": {
             "fill": {
              "color": "#EBF0F8"
             },
             "line": {
              "color": "white"
             }
            },
            "header": {
             "fill": {
              "color": "#C8D4E3"
             },
             "line": {
              "color": "white"
             }
            },
            "type": "table"
           }
          ]
         },
         "layout": {
          "annotationdefaults": {
           "arrowcolor": "#2a3f5f",
           "arrowhead": 0,
           "arrowwidth": 1
          },
          "coloraxis": {
           "colorbar": {
            "outlinewidth": 0,
            "ticks": ""
           }
          },
          "colorscale": {
           "diverging": [
            [
             0,
             "#8e0152"
            ],
            [
             0.1,
             "#c51b7d"
            ],
            [
             0.2,
             "#de77ae"
            ],
            [
             0.3,
             "#f1b6da"
            ],
            [
             0.4,
             "#fde0ef"
            ],
            [
             0.5,
             "#f7f7f7"
            ],
            [
             0.6,
             "#e6f5d0"
            ],
            [
             0.7,
             "#b8e186"
            ],
            [
             0.8,
             "#7fbc41"
            ],
            [
             0.9,
             "#4d9221"
            ],
            [
             1,
             "#276419"
            ]
           ],
           "sequential": [
            [
             0,
             "#0d0887"
            ],
            [
             0.1111111111111111,
             "#46039f"
            ],
            [
             0.2222222222222222,
             "#7201a8"
            ],
            [
             0.3333333333333333,
             "#9c179e"
            ],
            [
             0.4444444444444444,
             "#bd3786"
            ],
            [
             0.5555555555555556,
             "#d8576b"
            ],
            [
             0.6666666666666666,
             "#ed7953"
            ],
            [
             0.7777777777777778,
             "#fb9f3a"
            ],
            [
             0.8888888888888888,
             "#fdca26"
            ],
            [
             1,
             "#f0f921"
            ]
           ],
           "sequentialminus": [
            [
             0,
             "#0d0887"
            ],
            [
             0.1111111111111111,
             "#46039f"
            ],
            [
             0.2222222222222222,
             "#7201a8"
            ],
            [
             0.3333333333333333,
             "#9c179e"
            ],
            [
             0.4444444444444444,
             "#bd3786"
            ],
            [
             0.5555555555555556,
             "#d8576b"
            ],
            [
             0.6666666666666666,
             "#ed7953"
            ],
            [
             0.7777777777777778,
             "#fb9f3a"
            ],
            [
             0.8888888888888888,
             "#fdca26"
            ],
            [
             1,
             "#f0f921"
            ]
           ]
          },
          "colorway": [
           "#636efa",
           "#EF553B",
           "#00cc96",
           "#ab63fa",
           "#FFA15A",
           "#19d3f3",
           "#FF6692",
           "#B6E880",
           "#FF97FF",
           "#FECB52"
          ],
          "font": {
           "color": "#2a3f5f"
          },
          "geo": {
           "bgcolor": "white",
           "lakecolor": "white",
           "landcolor": "#E5ECF6",
           "showlakes": true,
           "showland": true,
           "subunitcolor": "white"
          },
          "hoverlabel": {
           "align": "left"
          },
          "hovermode": "closest",
          "mapbox": {
           "style": "light"
          },
          "paper_bgcolor": "white",
          "plot_bgcolor": "#E5ECF6",
          "polar": {
           "angularaxis": {
            "gridcolor": "white",
            "linecolor": "white",
            "ticks": ""
           },
           "bgcolor": "#E5ECF6",
           "radialaxis": {
            "gridcolor": "white",
            "linecolor": "white",
            "ticks": ""
           }
          },
          "scene": {
           "xaxis": {
            "backgroundcolor": "#E5ECF6",
            "gridcolor": "white",
            "gridwidth": 2,
            "linecolor": "white",
            "showbackground": true,
            "ticks": "",
            "zerolinecolor": "white"
           },
           "yaxis": {
            "backgroundcolor": "#E5ECF6",
            "gridcolor": "white",
            "gridwidth": 2,
            "linecolor": "white",
            "showbackground": true,
            "ticks": "",
            "zerolinecolor": "white"
           },
           "zaxis": {
            "backgroundcolor": "#E5ECF6",
            "gridcolor": "white",
            "gridwidth": 2,
            "linecolor": "white",
            "showbackground": true,
            "ticks": "",
            "zerolinecolor": "white"
           }
          },
          "shapedefaults": {
           "line": {
            "color": "#2a3f5f"
           }
          },
          "ternary": {
           "aaxis": {
            "gridcolor": "white",
            "linecolor": "white",
            "ticks": ""
           },
           "baxis": {
            "gridcolor": "white",
            "linecolor": "white",
            "ticks": ""
           },
           "bgcolor": "#E5ECF6",
           "caxis": {
            "gridcolor": "white",
            "linecolor": "white",
            "ticks": ""
           }
          },
          "title": {
           "x": 0.05
          },
          "xaxis": {
           "automargin": true,
           "gridcolor": "white",
           "linecolor": "white",
           "ticks": "",
           "title": {
            "standoff": 15
           },
           "zerolinecolor": "white",
           "zerolinewidth": 2
          },
          "yaxis": {
           "automargin": true,
           "gridcolor": "white",
           "linecolor": "white",
           "ticks": "",
           "title": {
            "standoff": 15
           },
           "zerolinecolor": "white",
           "zerolinewidth": 2
          }
         }
        },
        "xaxis": {
         "anchor": "y",
         "domain": [
          0,
          1
         ]
        },
        "xaxis2": {
         "anchor": "y2",
         "domain": [
          0,
          1
         ]
        },
        "xaxis3": {
         "anchor": "y3",
         "domain": [
          0,
          1
         ]
        },
        "yaxis": {
         "anchor": "x",
         "domain": [
          0.7333333333333333,
          1
         ]
        },
        "yaxis2": {
         "anchor": "x2",
         "domain": [
          0.36666666666666664,
          0.6333333333333333
         ]
        },
        "yaxis3": {
         "anchor": "x3",
         "domain": [
          0,
          0.26666666666666666
         ]
        }
       }
      },
      "text/html": [
       "<div>                            <div id=\"2195c25f-5aab-4971-b1e5-3e97c2118e47\" class=\"plotly-graph-div\" style=\"height:525px; width:100%;\"></div>            <script type=\"text/javascript\">                require([\"plotly\"], function(Plotly) {                    window.PLOTLYENV=window.PLOTLYENV || {};                                    if (document.getElementById(\"2195c25f-5aab-4971-b1e5-3e97c2118e47\")) {                    Plotly.newPlot(                        \"2195c25f-5aab-4971-b1e5-3e97c2118e47\",                        [{\"marker\": {\"color\": [\"#003f5c\", \"#2f4b7c\", \"#665191\", \"#a05195\", \"#d45087\", \"#f95d6a\", \"#ff7c43\", \"#ffa600\"]}, \"name\": \"Laxity Sum\", \"orientation\": \"h\", \"type\": \"bar\", \"x\": [1765, 1065, 1065, 1065], \"xaxis\": \"x\", \"y\": [\"ALL_CP_ROUTING_AND_SCHEDULING\", \"SA_ROUTING_ASAP_SCHEDULING\", \"SA_ROUTING_SA_SCHEDULING\", \"SA_ROUTING_SA_SCHEDULING_COMB\"], \"yaxis\": \"y\"}, {\"marker\": {\"color\": [\"#003f5c\", \"#2f4b7c\", \"#665191\", \"#a05195\", \"#d45087\", \"#f95d6a\", \"#ff7c43\", \"#ffa600\"]}, \"name\": \"Overlaps\", \"orientation\": \"h\", \"type\": \"bar\", \"x\": [12, 0, 0, -1], \"xaxis\": \"x2\", \"y\": [\"ALL_CP_ROUTING_AND_SCHEDULING\", \"SA_ROUTING_ASAP_SCHEDULING\", \"SA_ROUTING_SA_SCHEDULING\", \"SA_ROUTING_SA_SCHEDULING_COMB\"], \"yaxis\": \"y2\"}, {\"marker\": {\"color\": [\"#003f5c\", \"#2f4b7c\", \"#665191\", \"#a05195\", \"#d45087\", \"#f95d6a\", \"#ff7c43\", \"#ffa600\"]}, \"name\": \"Time\", \"orientation\": \"h\", \"type\": \"bar\", \"x\": [583.1449031829834, 3003.0698776245117, 33027.928352355964, 30047.44529724121], \"xaxis\": \"x3\", \"y\": [\"ALL_CP_ROUTING_AND_SCHEDULING\", \"SA_ROUTING_ASAP_SCHEDULING\", \"SA_ROUTING_SA_SCHEDULING\", \"SA_ROUTING_SA_SCHEDULING_COMB\"], \"yaxis\": \"y3\"}],                        {\"template\": {\"data\": {\"bar\": [{\"error_x\": {\"color\": \"#2a3f5f\"}, \"error_y\": {\"color\": \"#2a3f5f\"}, \"marker\": {\"line\": {\"color\": \"#E5ECF6\", \"width\": 0.5}}, \"type\": \"bar\"}], \"barpolar\": [{\"marker\": {\"line\": {\"color\": \"#E5ECF6\", \"width\": 0.5}}, \"type\": \"barpolar\"}], \"carpet\": [{\"aaxis\": {\"endlinecolor\": \"#2a3f5f\", \"gridcolor\": \"white\", \"linecolor\": \"white\", \"minorgridcolor\": \"white\", \"startlinecolor\": \"#2a3f5f\"}, \"baxis\": {\"endlinecolor\": \"#2a3f5f\", \"gridcolor\": \"white\", \"linecolor\": \"white\", \"minorgridcolor\": \"white\", \"startlinecolor\": \"#2a3f5f\"}, \"type\": \"carpet\"}], \"choropleth\": [{\"colorbar\": {\"outlinewidth\": 0, \"ticks\": \"\"}, \"type\": \"choropleth\"}], \"contour\": [{\"colorbar\": {\"outlinewidth\": 0, \"ticks\": \"\"}, \"colorscale\": [[0.0, \"#0d0887\"], [0.1111111111111111, \"#46039f\"], [0.2222222222222222, \"#7201a8\"], [0.3333333333333333, \"#9c179e\"], [0.4444444444444444, \"#bd3786\"], [0.5555555555555556, \"#d8576b\"], [0.6666666666666666, \"#ed7953\"], [0.7777777777777778, \"#fb9f3a\"], [0.8888888888888888, \"#fdca26\"], [1.0, \"#f0f921\"]], \"type\": \"contour\"}], \"contourcarpet\": [{\"colorbar\": {\"outlinewidth\": 0, \"ticks\": \"\"}, \"type\": \"contourcarpet\"}], \"heatmap\": [{\"colorbar\": {\"outlinewidth\": 0, \"ticks\": \"\"}, \"colorscale\": [[0.0, \"#0d0887\"], [0.1111111111111111, \"#46039f\"], [0.2222222222222222, \"#7201a8\"], [0.3333333333333333, \"#9c179e\"], [0.4444444444444444, \"#bd3786\"], [0.5555555555555556, \"#d8576b\"], [0.6666666666666666, \"#ed7953\"], [0.7777777777777778, \"#fb9f3a\"], [0.8888888888888888, \"#fdca26\"], [1.0, \"#f0f921\"]], \"type\": \"heatmap\"}], \"heatmapgl\": [{\"colorbar\": {\"outlinewidth\": 0, \"ticks\": \"\"}, \"colorscale\": [[0.0, \"#0d0887\"], [0.1111111111111111, \"#46039f\"], [0.2222222222222222, \"#7201a8\"], [0.3333333333333333, \"#9c179e\"], [0.4444444444444444, \"#bd3786\"], [0.5555555555555556, \"#d8576b\"], [0.6666666666666666, \"#ed7953\"], [0.7777777777777778, \"#fb9f3a\"], [0.8888888888888888, \"#fdca26\"], [1.0, \"#f0f921\"]], \"type\": \"heatmapgl\"}], \"histogram\": [{\"marker\": {\"colorbar\": {\"outlinewidth\": 0, \"ticks\": \"\"}}, \"type\": \"histogram\"}], \"histogram2d\": [{\"colorbar\": {\"outlinewidth\": 0, \"ticks\": \"\"}, \"colorscale\": [[0.0, \"#0d0887\"], [0.1111111111111111, \"#46039f\"], [0.2222222222222222, \"#7201a8\"], [0.3333333333333333, \"#9c179e\"], [0.4444444444444444, \"#bd3786\"], [0.5555555555555556, \"#d8576b\"], [0.6666666666666666, \"#ed7953\"], [0.7777777777777778, \"#fb9f3a\"], [0.8888888888888888, \"#fdca26\"], [1.0, \"#f0f921\"]], \"type\": \"histogram2d\"}], \"histogram2dcontour\": [{\"colorbar\": {\"outlinewidth\": 0, \"ticks\": \"\"}, \"colorscale\": [[0.0, \"#0d0887\"], [0.1111111111111111, \"#46039f\"], [0.2222222222222222, \"#7201a8\"], [0.3333333333333333, \"#9c179e\"], [0.4444444444444444, \"#bd3786\"], [0.5555555555555556, \"#d8576b\"], [0.6666666666666666, \"#ed7953\"], [0.7777777777777778, \"#fb9f3a\"], [0.8888888888888888, \"#fdca26\"], [1.0, \"#f0f921\"]], \"type\": \"histogram2dcontour\"}], \"mesh3d\": [{\"colorbar\": {\"outlinewidth\": 0, \"ticks\": \"\"}, \"type\": \"mesh3d\"}], \"parcoords\": [{\"line\": {\"colorbar\": {\"outlinewidth\": 0, \"ticks\": \"\"}}, \"type\": \"parcoords\"}], \"pie\": [{\"automargin\": true, \"type\": \"pie\"}], \"scatter\": [{\"marker\": {\"colorbar\": {\"outlinewidth\": 0, \"ticks\": \"\"}}, \"type\": \"scatter\"}], \"scatter3d\": [{\"line\": {\"colorbar\": {\"outlinewidth\": 0, \"ticks\": \"\"}}, \"marker\": {\"colorbar\": {\"outlinewidth\": 0, \"ticks\": \"\"}}, \"type\": \"scatter3d\"}], \"scattercarpet\": [{\"marker\": {\"colorbar\": {\"outlinewidth\": 0, \"ticks\": \"\"}}, \"type\": \"scattercarpet\"}], \"scattergeo\": [{\"marker\": {\"colorbar\": {\"outlinewidth\": 0, \"ticks\": \"\"}}, \"type\": \"scattergeo\"}], \"scattergl\": [{\"marker\": {\"colorbar\": {\"outlinewidth\": 0, \"ticks\": \"\"}}, \"type\": \"scattergl\"}], \"scattermapbox\": [{\"marker\": {\"colorbar\": {\"outlinewidth\": 0, \"ticks\": \"\"}}, \"type\": \"scattermapbox\"}], \"scatterpolar\": [{\"marker\": {\"colorbar\": {\"outlinewidth\": 0, \"ticks\": \"\"}}, \"type\": \"scatterpolar\"}], \"scatterpolargl\": [{\"marker\": {\"colorbar\": {\"outlinewidth\": 0, \"ticks\": \"\"}}, \"type\": \"scatterpolargl\"}], \"scatterternary\": [{\"marker\": {\"colorbar\": {\"outlinewidth\": 0, \"ticks\": \"\"}}, \"type\": \"scatterternary\"}], \"surface\": [{\"colorbar\": {\"outlinewidth\": 0, \"ticks\": \"\"}, \"colorscale\": [[0.0, \"#0d0887\"], [0.1111111111111111, \"#46039f\"], [0.2222222222222222, \"#7201a8\"], [0.3333333333333333, \"#9c179e\"], [0.4444444444444444, \"#bd3786\"], [0.5555555555555556, \"#d8576b\"], [0.6666666666666666, \"#ed7953\"], [0.7777777777777778, \"#fb9f3a\"], [0.8888888888888888, \"#fdca26\"], [1.0, \"#f0f921\"]], \"type\": \"surface\"}], \"table\": [{\"cells\": {\"fill\": {\"color\": \"#EBF0F8\"}, \"line\": {\"color\": \"white\"}}, \"header\": {\"fill\": {\"color\": \"#C8D4E3\"}, \"line\": {\"color\": \"white\"}}, \"type\": \"table\"}]}, \"layout\": {\"annotationdefaults\": {\"arrowcolor\": \"#2a3f5f\", \"arrowhead\": 0, \"arrowwidth\": 1}, \"coloraxis\": {\"colorbar\": {\"outlinewidth\": 0, \"ticks\": \"\"}}, \"colorscale\": {\"diverging\": [[0, \"#8e0152\"], [0.1, \"#c51b7d\"], [0.2, \"#de77ae\"], [0.3, \"#f1b6da\"], [0.4, \"#fde0ef\"], [0.5, \"#f7f7f7\"], [0.6, \"#e6f5d0\"], [0.7, \"#b8e186\"], [0.8, \"#7fbc41\"], [0.9, \"#4d9221\"], [1, \"#276419\"]], \"sequential\": [[0.0, \"#0d0887\"], [0.1111111111111111, \"#46039f\"], [0.2222222222222222, \"#7201a8\"], [0.3333333333333333, \"#9c179e\"], [0.4444444444444444, \"#bd3786\"], [0.5555555555555556, \"#d8576b\"], [0.6666666666666666, \"#ed7953\"], [0.7777777777777778, \"#fb9f3a\"], [0.8888888888888888, \"#fdca26\"], [1.0, \"#f0f921\"]], \"sequentialminus\": [[0.0, \"#0d0887\"], [0.1111111111111111, \"#46039f\"], [0.2222222222222222, \"#7201a8\"], [0.3333333333333333, \"#9c179e\"], [0.4444444444444444, \"#bd3786\"], [0.5555555555555556, \"#d8576b\"], [0.6666666666666666, \"#ed7953\"], [0.7777777777777778, \"#fb9f3a\"], [0.8888888888888888, \"#fdca26\"], [1.0, \"#f0f921\"]]}, \"colorway\": [\"#636efa\", \"#EF553B\", \"#00cc96\", \"#ab63fa\", \"#FFA15A\", \"#19d3f3\", \"#FF6692\", \"#B6E880\", \"#FF97FF\", \"#FECB52\"], \"font\": {\"color\": \"#2a3f5f\"}, \"geo\": {\"bgcolor\": \"white\", \"lakecolor\": \"white\", \"landcolor\": \"#E5ECF6\", \"showlakes\": true, \"showland\": true, \"subunitcolor\": \"white\"}, \"hoverlabel\": {\"align\": \"left\"}, \"hovermode\": \"closest\", \"mapbox\": {\"style\": \"light\"}, \"paper_bgcolor\": \"white\", \"plot_bgcolor\": \"#E5ECF6\", \"polar\": {\"angularaxis\": {\"gridcolor\": \"white\", \"linecolor\": \"white\", \"ticks\": \"\"}, \"bgcolor\": \"#E5ECF6\", \"radialaxis\": {\"gridcolor\": \"white\", \"linecolor\": \"white\", \"ticks\": \"\"}}, \"scene\": {\"xaxis\": {\"backgroundcolor\": \"#E5ECF6\", \"gridcolor\": \"white\", \"gridwidth\": 2, \"linecolor\": \"white\", \"showbackground\": true, \"ticks\": \"\", \"zerolinecolor\": \"white\"}, \"yaxis\": {\"backgroundcolor\": \"#E5ECF6\", \"gridcolor\": \"white\", \"gridwidth\": 2, \"linecolor\": \"white\", \"showbackground\": true, \"ticks\": \"\", \"zerolinecolor\": \"white\"}, \"zaxis\": {\"backgroundcolor\": \"#E5ECF6\", \"gridcolor\": \"white\", \"gridwidth\": 2, \"linecolor\": \"white\", \"showbackground\": true, \"ticks\": \"\", \"zerolinecolor\": \"white\"}}, \"shapedefaults\": {\"line\": {\"color\": \"#2a3f5f\"}}, \"ternary\": {\"aaxis\": {\"gridcolor\": \"white\", \"linecolor\": \"white\", \"ticks\": \"\"}, \"baxis\": {\"gridcolor\": \"white\", \"linecolor\": \"white\", \"ticks\": \"\"}, \"bgcolor\": \"#E5ECF6\", \"caxis\": {\"gridcolor\": \"white\", \"linecolor\": \"white\", \"ticks\": \"\"}}, \"title\": {\"x\": 0.05}, \"xaxis\": {\"automargin\": true, \"gridcolor\": \"white\", \"linecolor\": \"white\", \"ticks\": \"\", \"title\": {\"standoff\": 15}, \"zerolinecolor\": \"white\", \"zerolinewidth\": 2}, \"yaxis\": {\"automargin\": true, \"gridcolor\": \"white\", \"linecolor\": \"white\", \"ticks\": \"\", \"title\": {\"standoff\": 15}, \"zerolinecolor\": \"white\", \"zerolinewidth\": 2}}}, \"xaxis\": {\"anchor\": \"y\", \"domain\": [0.0, 1.0]}, \"xaxis2\": {\"anchor\": \"y2\", \"domain\": [0.0, 1.0]}, \"xaxis3\": {\"anchor\": \"y3\", \"domain\": [0.0, 1.0]}, \"yaxis\": {\"anchor\": \"x\", \"domain\": [0.7333333333333333, 1.0]}, \"yaxis2\": {\"anchor\": \"x2\", \"domain\": [0.36666666666666664, 0.6333333333333333]}, \"yaxis3\": {\"anchor\": \"x3\", \"domain\": [0.0, 0.26666666666666666]}},                        {\"responsive\": true}                    ).then(function(){\n",
       "                            \n",
       "var gd = document.getElementById('2195c25f-5aab-4971-b1e5-3e97c2118e47');\n",
       "var x = new MutationObserver(function (mutations, observer) {{\n",
       "        var display = window.getComputedStyle(gd).display;\n",
       "        if (!display || display === 'none') {{\n",
       "            console.log([gd, 'removed!']);\n",
       "            Plotly.purge(gd);\n",
       "            observer.disconnect();\n",
       "        }}\n",
       "}});\n",
       "\n",
       "// Listen for the removal of the full notebook cells\n",
       "var notebookContainer = gd.closest('#notebook-container');\n",
       "if (notebookContainer) {{\n",
       "    x.observe(notebookContainer, {childList: true});\n",
       "}}\n",
       "\n",
       "// Listen for the clearing of the current output cell\n",
       "var outputEl = gd.closest('.output');\n",
       "if (outputEl) {{\n",
       "    x.observe(outputEl, {childList: true});\n",
       "}}\n",
       "\n",
       "                        })                };                });            </script>        </div>"
      ]
     },
     "metadata": {},
     "output_type": "display_data"
    }
   ],
   "source": [
    "import plotly.graph_objects as go\n",
    "from plotly.subplots import make_subplots\n",
    "fig = make_subplots(rows=3, cols=1)\n",
    "\n",
    "color_palette = [\"#003f5c\",\"#2f4b7c\",\"#665191\",\"#a05195\",\"#d45087\",\"#f95d6a\",\"#ff7c43\",\"#ffa600\"]\n",
    "\n",
    "modes = df_dd[\"Mode\"].tolist()\n",
    "names = [EMode(m).name for m in modes]\n",
    "laxities = df_dd[\"Laxity Sum\"].tolist()\n",
    "overlaps = df_dd[\"Overlap Amount\"].tolist()\n",
    "time = df_dd[\"Time\"].tolist()\n",
    "\n",
    "\n",
    "fig_laxities = go.Bar(name=\"Laxity Sum\", x=laxities, y=names, orientation='h', marker=dict(\n",
    "        color=color_palette\n",
    "    ))\n",
    "\n",
    "fig_overlaps = go.Bar(name=\"Overlaps\", x=overlaps, y=names, orientation='h', marker=dict(\n",
    "        color=color_palette\n",
    "    ))\n",
    "\n",
    "fig_time = go.Bar(name=\"Time\", x=time, y=names, orientation='h', marker=dict(\n",
    "        color=color_palette\n",
    "    ))\n",
    "\n",
    "\n",
    "fig.add_trace(fig_laxities, row=1, col=1)\n",
    "fig.add_trace(fig_overlaps, row=2, col=1)\n",
    "fig.add_trace(fig_time, row=3, col=1)\n",
    "\n",
    "fig.show()"
   ]
  },
  {
   "cell_type": "code",
   "execution_count": null,
   "id": "ready-currency",
   "metadata": {},
   "outputs": [],
   "source": []
  }
 ],
 "metadata": {
  "kernelspec": {
   "display_name": "Python 3",
   "language": "python",
   "name": "python3"
  },
  "language_info": {
   "codemirror_mode": {
    "name": "ipython",
    "version": 3
   },
   "file_extension": ".py",
   "mimetype": "text/x-python",
   "name": "python",
   "nbconvert_exporter": "python",
   "pygments_lexer": "ipython3",
   "version": "3.9.1"
  }
 },
 "nbformat": 4,
 "nbformat_minor": 5
}
